{
 "cells": [
  {
   "cell_type": "markdown",
   "metadata": {},
   "source": [
    "You can find section 3 here: http://localhost:8891/notebooks/Documents/GitHub/Problem-Set-2-Legal-Studies-123/Docs/Machine%20Learning%20and%20Crime%20(SECTION%203).ipynb"
   ]
  },
  {
   "cell_type": "markdown",
   "metadata": {},
   "source": [
    "# Problem Set 2 --- SFPD Machine Learning and Crime"
   ]
  },
  {
   "cell_type": "code",
   "execution_count": 25,
   "metadata": {},
   "outputs": [],
   "source": [
    "import numpy as np\n",
    "import datetime as dt\n",
    "import pandas as pd\n",
    "import matplotlib.pyplot as plt\n",
    "%matplotlib inline\n",
    "from sklearn.preprocessing import StandardScaler\n",
    "from sklearn.model_selection import train_test_split\n",
    "from sklearn.linear_model import Ridge, Lasso, LinearRegression\n",
    "from sklearn.model_selection import KFold\n",
    "from sklearn.model_selection import cross_val_score\n",
    "from sklearn.model_selection import cross_val_predict\n",
    "from sklearn.metrics import r2_score\n",
    "\n",
    "from IPython.core.interactiveshell import InteractiveShell\n",
    "InteractiveShell.ast_node_interactivity = \"all\""
   ]
  },
  {
   "cell_type": "markdown",
   "metadata": {},
   "source": [
    "# 2 Get the Data"
   ]
  },
  {
   "cell_type": "markdown",
   "metadata": {},
   "source": [
    "The data has been significantly cleaned. It matches neighborhood descriptions from the “Analysis Neighborhoods” dataset available on SFOpenData to the U.S. Census tract-level information about the socioeconomic and demographic characteristics of the neighborhoods from 2011-2016. If you’re feeling ambitious, you can look at the raw data and see if there are any improvements that you can make!\n",
    "\n",
    "The objective of this problem set will be to develop an algorithm that predicts how many crimes\n",
    "a neighborhood will experience per month, and to understand its accuracy and fairness on a new dataset. Throughout the problem set, be sure to relabel your features so that they are more easily\n",
    "interpreted, and give reasons for your analytic choices."
   ]
  },
  {
   "cell_type": "markdown",
   "metadata": {},
   "source": [
    "2.1) Is this a supervised or an unsupervised learning problem? Explain."
   ]
  },
  {
   "cell_type": "markdown",
   "metadata": {},
   "source": [
    "This is almost certainly a supervised learning problem. The key factor here lies in that the data is heavily cleaned - unsupervised learning usually occurs with data that is unstructured and/or unlabeled, and where researchers are looking for the structures or patterns in the data. The goal of the project also indicates that it's a supervised learning problem: supervised learning is meant to predict how new data should look, whereas unsupervised is more focused just on figuring out patterns in the data as is. "
   ]
  },
  {
   "cell_type": "markdown",
   "metadata": {},
   "source": [
    "2.2) Clean and manipulate the data so that you have information about the amount of crime per SF neighborhood per month from 2003-2017."
   ]
  },
  {
   "cell_type": "code",
   "execution_count": 26,
   "metadata": {},
   "outputs": [
    {
     "data": {
      "text/html": [
       "<div>\n",
       "<style scoped>\n",
       "    .dataframe tbody tr th:only-of-type {\n",
       "        vertical-align: middle;\n",
       "    }\n",
       "\n",
       "    .dataframe tbody tr th {\n",
       "        vertical-align: top;\n",
       "    }\n",
       "\n",
       "    .dataframe thead th {\n",
       "        text-align: right;\n",
       "    }\n",
       "</style>\n",
       "<table border=\"1\" class=\"dataframe\">\n",
       "  <thead>\n",
       "    <tr style=\"text-align: right;\">\n",
       "      <th></th>\n",
       "      <th>neighborhood</th>\n",
       "      <th>Month_Year</th>\n",
       "      <th>number_crimes</th>\n",
       "      <th>tractce10</th>\n",
       "      <th>VC03</th>\n",
       "      <th>VC04</th>\n",
       "      <th>VC05</th>\n",
       "      <th>VC06</th>\n",
       "      <th>VC07</th>\n",
       "      <th>VC08</th>\n",
       "      <th>...</th>\n",
       "      <th>VC206</th>\n",
       "      <th>VC207</th>\n",
       "      <th>VC208</th>\n",
       "      <th>VC209</th>\n",
       "      <th>VC210</th>\n",
       "      <th>VC211</th>\n",
       "      <th>VC212</th>\n",
       "      <th>VC216</th>\n",
       "      <th>VC217</th>\n",
       "      <th>VC218</th>\n",
       "    </tr>\n",
       "  </thead>\n",
       "  <tbody>\n",
       "    <tr>\n",
       "      <th>0</th>\n",
       "      <td>North Beach</td>\n",
       "      <td>01/2003</td>\n",
       "      <td>168</td>\n",
       "      <td>10100</td>\n",
       "      <td>2059</td>\n",
       "      <td>815</td>\n",
       "      <td>178</td>\n",
       "      <td>545</td>\n",
       "      <td>140</td>\n",
       "      <td>17</td>\n",
       "      <td>...</td>\n",
       "      <td>0</td>\n",
       "      <td>0</td>\n",
       "      <td>22</td>\n",
       "      <td>0</td>\n",
       "      <td>0</td>\n",
       "      <td>0</td>\n",
       "      <td>14</td>\n",
       "      <td>NaN</td>\n",
       "      <td>NaN</td>\n",
       "      <td>NaN</td>\n",
       "    </tr>\n",
       "    <tr>\n",
       "      <th>1</th>\n",
       "      <td>North Beach</td>\n",
       "      <td>01/2004</td>\n",
       "      <td>162</td>\n",
       "      <td>10100</td>\n",
       "      <td>2059</td>\n",
       "      <td>815</td>\n",
       "      <td>178</td>\n",
       "      <td>545</td>\n",
       "      <td>140</td>\n",
       "      <td>17</td>\n",
       "      <td>...</td>\n",
       "      <td>0</td>\n",
       "      <td>0</td>\n",
       "      <td>22</td>\n",
       "      <td>0</td>\n",
       "      <td>0</td>\n",
       "      <td>0</td>\n",
       "      <td>14</td>\n",
       "      <td>NaN</td>\n",
       "      <td>NaN</td>\n",
       "      <td>NaN</td>\n",
       "    </tr>\n",
       "    <tr>\n",
       "      <th>2</th>\n",
       "      <td>North Beach</td>\n",
       "      <td>01/2005</td>\n",
       "      <td>174</td>\n",
       "      <td>10100</td>\n",
       "      <td>2059</td>\n",
       "      <td>815</td>\n",
       "      <td>178</td>\n",
       "      <td>545</td>\n",
       "      <td>140</td>\n",
       "      <td>17</td>\n",
       "      <td>...</td>\n",
       "      <td>0</td>\n",
       "      <td>0</td>\n",
       "      <td>22</td>\n",
       "      <td>0</td>\n",
       "      <td>0</td>\n",
       "      <td>0</td>\n",
       "      <td>14</td>\n",
       "      <td>NaN</td>\n",
       "      <td>NaN</td>\n",
       "      <td>NaN</td>\n",
       "    </tr>\n",
       "    <tr>\n",
       "      <th>3</th>\n",
       "      <td>North Beach</td>\n",
       "      <td>01/2006</td>\n",
       "      <td>185</td>\n",
       "      <td>10100</td>\n",
       "      <td>2059</td>\n",
       "      <td>815</td>\n",
       "      <td>178</td>\n",
       "      <td>545</td>\n",
       "      <td>140</td>\n",
       "      <td>17</td>\n",
       "      <td>...</td>\n",
       "      <td>0</td>\n",
       "      <td>0</td>\n",
       "      <td>22</td>\n",
       "      <td>0</td>\n",
       "      <td>0</td>\n",
       "      <td>0</td>\n",
       "      <td>14</td>\n",
       "      <td>NaN</td>\n",
       "      <td>NaN</td>\n",
       "      <td>NaN</td>\n",
       "    </tr>\n",
       "    <tr>\n",
       "      <th>4</th>\n",
       "      <td>North Beach</td>\n",
       "      <td>01/2007</td>\n",
       "      <td>153</td>\n",
       "      <td>10100</td>\n",
       "      <td>2059</td>\n",
       "      <td>815</td>\n",
       "      <td>178</td>\n",
       "      <td>545</td>\n",
       "      <td>140</td>\n",
       "      <td>17</td>\n",
       "      <td>...</td>\n",
       "      <td>0</td>\n",
       "      <td>0</td>\n",
       "      <td>22</td>\n",
       "      <td>0</td>\n",
       "      <td>0</td>\n",
       "      <td>0</td>\n",
       "      <td>14</td>\n",
       "      <td>NaN</td>\n",
       "      <td>NaN</td>\n",
       "      <td>NaN</td>\n",
       "    </tr>\n",
       "  </tbody>\n",
       "</table>\n",
       "<p>5 rows × 156 columns</p>\n",
       "</div>"
      ],
      "text/plain": [
       "  neighborhood Month_Year  number_crimes  tractce10  VC03  VC04  VC05  VC06  \\\n",
       "0  North Beach    01/2003            168      10100  2059   815   178   545   \n",
       "1  North Beach    01/2004            162      10100  2059   815   178   545   \n",
       "2  North Beach    01/2005            174      10100  2059   815   178   545   \n",
       "3  North Beach    01/2006            185      10100  2059   815   178   545   \n",
       "4  North Beach    01/2007            153      10100  2059   815   178   545   \n",
       "\n",
       "   VC07  VC08  ...  VC206  VC207  VC208  VC209  VC210  VC211  VC212  VC216  \\\n",
       "0   140    17  ...      0      0     22      0      0      0     14    NaN   \n",
       "1   140    17  ...      0      0     22      0      0      0     14    NaN   \n",
       "2   140    17  ...      0      0     22      0      0      0     14    NaN   \n",
       "3   140    17  ...      0      0     22      0      0      0     14    NaN   \n",
       "4   140    17  ...      0      0     22      0      0      0     14    NaN   \n",
       "\n",
       "   VC217  VC218  \n",
       "0    NaN    NaN  \n",
       "1    NaN    NaN  \n",
       "2    NaN    NaN  \n",
       "3    NaN    NaN  \n",
       "4    NaN    NaN  \n",
       "\n",
       "[5 rows x 156 columns]"
      ]
     },
     "execution_count": 26,
     "metadata": {},
     "output_type": "execute_result"
    },
    {
     "name": "stdout",
     "output_type": "stream",
     "text": [
      "df has 35295 rows\n"
     ]
    }
   ],
   "source": [
    "# df = pd.read_csv('San Francisco Crime by Neighborhood and Tract.csv')\n",
    "# df = pd.read_csv('C:\\\\Users\\\\timet\\\\Desktop\\\\GitHub\\\\Problem-Set-2-Legal-Studies-123\\Data\\San Francisco Crime by Neighborhood and Tract.csv')\n",
    "df = pd.read_csv('C:\\\\Users\\\\kharr\\\\Documents\\\\GitHub\\\\Problem-Set-2-Legal-Studies-123\\Data\\San Francisco Crime by Neighborhood and Tract.csv')\n",
    "\n",
    "df_q1 = df\n",
    "df.head(5)\n",
    "print('df has',df.index.size,'rows')"
   ]
  },
  {
   "cell_type": "code",
   "execution_count": 27,
   "metadata": {},
   "outputs": [
    {
     "data": {
      "text/plain": [
       "35295"
      ]
     },
     "execution_count": 27,
     "metadata": {},
     "output_type": "execute_result"
    },
    {
     "data": {
      "text/plain": [
       "35295"
      ]
     },
     "execution_count": 27,
     "metadata": {},
     "output_type": "execute_result"
    }
   ],
   "source": [
    "df = df.drop_duplicates()\n",
    "df = df.fillna(0)\n",
    "df.index.size\n",
    "\n",
    "df_q1 = df_q1.drop_duplicates()\n",
    "df_q1 = df_q1.fillna(0)\n",
    "df_q1.index.size"
   ]
  },
  {
   "cell_type": "code",
   "execution_count": 28,
   "metadata": {},
   "outputs": [
    {
     "data": {
      "text/html": [
       "<div>\n",
       "<style scoped>\n",
       "    .dataframe tbody tr th:only-of-type {\n",
       "        vertical-align: middle;\n",
       "    }\n",
       "\n",
       "    .dataframe tbody tr th {\n",
       "        vertical-align: top;\n",
       "    }\n",
       "\n",
       "    .dataframe thead th {\n",
       "        text-align: right;\n",
       "    }\n",
       "</style>\n",
       "<table border=\"1\" class=\"dataframe\">\n",
       "  <thead>\n",
       "    <tr style=\"text-align: right;\">\n",
       "      <th></th>\n",
       "      <th>neighborhood</th>\n",
       "      <th>Month_Year</th>\n",
       "      <th>number_crimes</th>\n",
       "    </tr>\n",
       "  </thead>\n",
       "  <tbody>\n",
       "    <tr>\n",
       "      <th>0</th>\n",
       "      <td>North Beach</td>\n",
       "      <td>01/2003</td>\n",
       "      <td>168</td>\n",
       "    </tr>\n",
       "    <tr>\n",
       "      <th>1</th>\n",
       "      <td>North Beach</td>\n",
       "      <td>01/2004</td>\n",
       "      <td>162</td>\n",
       "    </tr>\n",
       "    <tr>\n",
       "      <th>2</th>\n",
       "      <td>North Beach</td>\n",
       "      <td>01/2005</td>\n",
       "      <td>174</td>\n",
       "    </tr>\n",
       "    <tr>\n",
       "      <th>3</th>\n",
       "      <td>North Beach</td>\n",
       "      <td>01/2006</td>\n",
       "      <td>185</td>\n",
       "    </tr>\n",
       "    <tr>\n",
       "      <th>4</th>\n",
       "      <td>North Beach</td>\n",
       "      <td>01/2007</td>\n",
       "      <td>153</td>\n",
       "    </tr>\n",
       "  </tbody>\n",
       "</table>\n",
       "</div>"
      ],
      "text/plain": [
       "  neighborhood Month_Year  number_crimes\n",
       "0  North Beach    01/2003            168\n",
       "1  North Beach    01/2004            162\n",
       "2  North Beach    01/2005            174\n",
       "3  North Beach    01/2006            185\n",
       "4  North Beach    01/2007            153"
      ]
     },
     "execution_count": 28,
     "metadata": {},
     "output_type": "execute_result"
    }
   ],
   "source": [
    "#https://www.geeksforgeeks.org/how-to-drop-one-or-multiple-columns-in-pandas-dataframe/\n",
    "df_q1.drop(df_q1.iloc[:, 3:], inplace = True, axis = 1)\n",
    "df_q1.head()"
   ]
  },
  {
   "cell_type": "code",
   "execution_count": 29,
   "metadata": {},
   "outputs": [],
   "source": [
    "# small_copy = small_copy.groupby(['Month_Year'])\n",
    "# small_copy.head()\n",
    "\n",
    "df_q1 = df_q1.sort_values(['Month_Year'], ascending=True)\n",
    "df_q1 = df_q1.reset_index()\n",
    "df_q1 = df_q1.iloc[: , 1:]"
   ]
  },
  {
   "cell_type": "code",
   "execution_count": 30,
   "metadata": {},
   "outputs": [
    {
     "data": {
      "text/html": [
       "<div>\n",
       "<style scoped>\n",
       "    .dataframe tbody tr th:only-of-type {\n",
       "        vertical-align: middle;\n",
       "    }\n",
       "\n",
       "    .dataframe tbody tr th {\n",
       "        vertical-align: top;\n",
       "    }\n",
       "\n",
       "    .dataframe thead th {\n",
       "        text-align: right;\n",
       "    }\n",
       "</style>\n",
       "<table border=\"1\" class=\"dataframe\">\n",
       "  <thead>\n",
       "    <tr style=\"text-align: right;\">\n",
       "      <th></th>\n",
       "      <th>neighborhood</th>\n",
       "      <th>Month_Year</th>\n",
       "      <th>number_crimes</th>\n",
       "    </tr>\n",
       "  </thead>\n",
       "  <tbody>\n",
       "    <tr>\n",
       "      <th>0</th>\n",
       "      <td>North Beach</td>\n",
       "      <td>01/2003</td>\n",
       "      <td>168</td>\n",
       "    </tr>\n",
       "    <tr>\n",
       "      <th>1</th>\n",
       "      <td>Outer Mission</td>\n",
       "      <td>01/2003</td>\n",
       "      <td>75</td>\n",
       "    </tr>\n",
       "    <tr>\n",
       "      <th>2</th>\n",
       "      <td>Outer Richmond</td>\n",
       "      <td>01/2003</td>\n",
       "      <td>1806</td>\n",
       "    </tr>\n",
       "    <tr>\n",
       "      <th>3</th>\n",
       "      <td>Tenderloin</td>\n",
       "      <td>01/2003</td>\n",
       "      <td>951</td>\n",
       "    </tr>\n",
       "    <tr>\n",
       "      <th>4</th>\n",
       "      <td>Castro/Upper Market</td>\n",
       "      <td>01/2003</td>\n",
       "      <td>291</td>\n",
       "    </tr>\n",
       "    <tr>\n",
       "      <th>5</th>\n",
       "      <td>Excelsior</td>\n",
       "      <td>01/2003</td>\n",
       "      <td>390</td>\n",
       "    </tr>\n",
       "    <tr>\n",
       "      <th>6</th>\n",
       "      <td>Tenderloin</td>\n",
       "      <td>01/2003</td>\n",
       "      <td>951</td>\n",
       "    </tr>\n",
       "    <tr>\n",
       "      <th>7</th>\n",
       "      <td>Castro/Upper Market</td>\n",
       "      <td>01/2003</td>\n",
       "      <td>291</td>\n",
       "    </tr>\n",
       "    <tr>\n",
       "      <th>8</th>\n",
       "      <td>Mission</td>\n",
       "      <td>01/2003</td>\n",
       "      <td>635</td>\n",
       "    </tr>\n",
       "    <tr>\n",
       "      <th>9</th>\n",
       "      <td>Bayview Hunters Point</td>\n",
       "      <td>01/2003</td>\n",
       "      <td>573</td>\n",
       "    </tr>\n",
       "    <tr>\n",
       "      <th>10</th>\n",
       "      <td>Mission</td>\n",
       "      <td>01/2003</td>\n",
       "      <td>635</td>\n",
       "    </tr>\n",
       "    <tr>\n",
       "      <th>11</th>\n",
       "      <td>Outer Richmond</td>\n",
       "      <td>01/2003</td>\n",
       "      <td>1806</td>\n",
       "    </tr>\n",
       "    <tr>\n",
       "      <th>12</th>\n",
       "      <td>Marina</td>\n",
       "      <td>01/2003</td>\n",
       "      <td>433</td>\n",
       "    </tr>\n",
       "    <tr>\n",
       "      <th>13</th>\n",
       "      <td>Mission</td>\n",
       "      <td>01/2003</td>\n",
       "      <td>635</td>\n",
       "    </tr>\n",
       "    <tr>\n",
       "      <th>14</th>\n",
       "      <td>Excelsior</td>\n",
       "      <td>01/2003</td>\n",
       "      <td>390</td>\n",
       "    </tr>\n",
       "    <tr>\n",
       "      <th>15</th>\n",
       "      <td>Excelsior</td>\n",
       "      <td>01/2003</td>\n",
       "      <td>390</td>\n",
       "    </tr>\n",
       "    <tr>\n",
       "      <th>16</th>\n",
       "      <td>Inner Richmond</td>\n",
       "      <td>01/2003</td>\n",
       "      <td>239</td>\n",
       "    </tr>\n",
       "    <tr>\n",
       "      <th>17</th>\n",
       "      <td>Tenderloin</td>\n",
       "      <td>01/2003</td>\n",
       "      <td>951</td>\n",
       "    </tr>\n",
       "    <tr>\n",
       "      <th>18</th>\n",
       "      <td>Outer Mission</td>\n",
       "      <td>01/2003</td>\n",
       "      <td>75</td>\n",
       "    </tr>\n",
       "    <tr>\n",
       "      <th>19</th>\n",
       "      <td>Tenderloin</td>\n",
       "      <td>01/2003</td>\n",
       "      <td>951</td>\n",
       "    </tr>\n",
       "    <tr>\n",
       "      <th>20</th>\n",
       "      <td>Mission</td>\n",
       "      <td>01/2003</td>\n",
       "      <td>635</td>\n",
       "    </tr>\n",
       "    <tr>\n",
       "      <th>21</th>\n",
       "      <td>Excelsior</td>\n",
       "      <td>01/2003</td>\n",
       "      <td>390</td>\n",
       "    </tr>\n",
       "    <tr>\n",
       "      <th>22</th>\n",
       "      <td>Outer Richmond</td>\n",
       "      <td>01/2003</td>\n",
       "      <td>1806</td>\n",
       "    </tr>\n",
       "    <tr>\n",
       "      <th>23</th>\n",
       "      <td>Tenderloin</td>\n",
       "      <td>01/2003</td>\n",
       "      <td>951</td>\n",
       "    </tr>\n",
       "    <tr>\n",
       "      <th>24</th>\n",
       "      <td>Castro/Upper Market</td>\n",
       "      <td>01/2003</td>\n",
       "      <td>291</td>\n",
       "    </tr>\n",
       "    <tr>\n",
       "      <th>25</th>\n",
       "      <td>Seacliff</td>\n",
       "      <td>01/2003</td>\n",
       "      <td>39</td>\n",
       "    </tr>\n",
       "    <tr>\n",
       "      <th>26</th>\n",
       "      <td>Excelsior</td>\n",
       "      <td>01/2003</td>\n",
       "      <td>390</td>\n",
       "    </tr>\n",
       "    <tr>\n",
       "      <th>27</th>\n",
       "      <td>Tenderloin</td>\n",
       "      <td>01/2003</td>\n",
       "      <td>951</td>\n",
       "    </tr>\n",
       "    <tr>\n",
       "      <th>28</th>\n",
       "      <td>Castro/Upper Market</td>\n",
       "      <td>01/2003</td>\n",
       "      <td>291</td>\n",
       "    </tr>\n",
       "    <tr>\n",
       "      <th>29</th>\n",
       "      <td>Excelsior</td>\n",
       "      <td>01/2003</td>\n",
       "      <td>390</td>\n",
       "    </tr>\n",
       "    <tr>\n",
       "      <th>30</th>\n",
       "      <td>Inner Richmond</td>\n",
       "      <td>01/2003</td>\n",
       "      <td>239</td>\n",
       "    </tr>\n",
       "    <tr>\n",
       "      <th>31</th>\n",
       "      <td>Tenderloin</td>\n",
       "      <td>01/2003</td>\n",
       "      <td>951</td>\n",
       "    </tr>\n",
       "    <tr>\n",
       "      <th>32</th>\n",
       "      <td>Twin Peaks</td>\n",
       "      <td>01/2003</td>\n",
       "      <td>46</td>\n",
       "    </tr>\n",
       "    <tr>\n",
       "      <th>33</th>\n",
       "      <td>Inner Richmond</td>\n",
       "      <td>01/2003</td>\n",
       "      <td>239</td>\n",
       "    </tr>\n",
       "    <tr>\n",
       "      <th>34</th>\n",
       "      <td>Marina</td>\n",
       "      <td>01/2003</td>\n",
       "      <td>433</td>\n",
       "    </tr>\n",
       "    <tr>\n",
       "      <th>35</th>\n",
       "      <td>South of Market</td>\n",
       "      <td>01/2003</td>\n",
       "      <td>218</td>\n",
       "    </tr>\n",
       "    <tr>\n",
       "      <th>36</th>\n",
       "      <td>Visitacion Valley</td>\n",
       "      <td>01/2003</td>\n",
       "      <td>107</td>\n",
       "    </tr>\n",
       "    <tr>\n",
       "      <th>37</th>\n",
       "      <td>Inner Sunset</td>\n",
       "      <td>01/2003</td>\n",
       "      <td>938</td>\n",
       "    </tr>\n",
       "    <tr>\n",
       "      <th>38</th>\n",
       "      <td>Sunset/Parkside</td>\n",
       "      <td>01/2003</td>\n",
       "      <td>659</td>\n",
       "    </tr>\n",
       "    <tr>\n",
       "      <th>39</th>\n",
       "      <td>Pacific Heights</td>\n",
       "      <td>01/2003</td>\n",
       "      <td>643</td>\n",
       "    </tr>\n",
       "    <tr>\n",
       "      <th>40</th>\n",
       "      <td>Russian Hill</td>\n",
       "      <td>01/2003</td>\n",
       "      <td>302</td>\n",
       "    </tr>\n",
       "  </tbody>\n",
       "</table>\n",
       "</div>"
      ],
      "text/plain": [
       "             neighborhood Month_Year  number_crimes\n",
       "0             North Beach    01/2003            168\n",
       "1           Outer Mission    01/2003             75\n",
       "2          Outer Richmond    01/2003           1806\n",
       "3              Tenderloin    01/2003            951\n",
       "4     Castro/Upper Market    01/2003            291\n",
       "5               Excelsior    01/2003            390\n",
       "6              Tenderloin    01/2003            951\n",
       "7     Castro/Upper Market    01/2003            291\n",
       "8                 Mission    01/2003            635\n",
       "9   Bayview Hunters Point    01/2003            573\n",
       "10                Mission    01/2003            635\n",
       "11         Outer Richmond    01/2003           1806\n",
       "12                 Marina    01/2003            433\n",
       "13                Mission    01/2003            635\n",
       "14              Excelsior    01/2003            390\n",
       "15              Excelsior    01/2003            390\n",
       "16         Inner Richmond    01/2003            239\n",
       "17             Tenderloin    01/2003            951\n",
       "18          Outer Mission    01/2003             75\n",
       "19             Tenderloin    01/2003            951\n",
       "20                Mission    01/2003            635\n",
       "21              Excelsior    01/2003            390\n",
       "22         Outer Richmond    01/2003           1806\n",
       "23             Tenderloin    01/2003            951\n",
       "24    Castro/Upper Market    01/2003            291\n",
       "25               Seacliff    01/2003             39\n",
       "26              Excelsior    01/2003            390\n",
       "27             Tenderloin    01/2003            951\n",
       "28    Castro/Upper Market    01/2003            291\n",
       "29              Excelsior    01/2003            390\n",
       "30         Inner Richmond    01/2003            239\n",
       "31             Tenderloin    01/2003            951\n",
       "32             Twin Peaks    01/2003             46\n",
       "33         Inner Richmond    01/2003            239\n",
       "34                 Marina    01/2003            433\n",
       "35        South of Market    01/2003            218\n",
       "36      Visitacion Valley    01/2003            107\n",
       "37           Inner Sunset    01/2003            938\n",
       "38        Sunset/Parkside    01/2003            659\n",
       "39        Pacific Heights    01/2003            643\n",
       "40           Russian Hill    01/2003            302"
      ]
     },
     "execution_count": 30,
     "metadata": {},
     "output_type": "execute_result"
    }
   ],
   "source": [
    "df_q1.head(41)"
   ]
  },
  {
   "cell_type": "markdown",
   "metadata": {},
   "source": [
    "2.3.1) Partition the data into a training set, a validation set, and a test set."
   ]
  },
  {
   "cell_type": "code",
   "execution_count": 31,
   "metadata": {},
   "outputs": [
    {
     "data": {
      "text/html": [
       "<div>\n",
       "<style scoped>\n",
       "    .dataframe tbody tr th:only-of-type {\n",
       "        vertical-align: middle;\n",
       "    }\n",
       "\n",
       "    .dataframe tbody tr th {\n",
       "        vertical-align: top;\n",
       "    }\n",
       "\n",
       "    .dataframe thead th {\n",
       "        text-align: right;\n",
       "    }\n",
       "</style>\n",
       "<table border=\"1\" class=\"dataframe\">\n",
       "  <thead>\n",
       "    <tr style=\"text-align: right;\">\n",
       "      <th></th>\n",
       "      <th>neighborhood</th>\n",
       "      <th>Month_Year</th>\n",
       "      <th>number_crimes</th>\n",
       "      <th>tractce10</th>\n",
       "      <th>VC03</th>\n",
       "      <th>VC04</th>\n",
       "      <th>VC05</th>\n",
       "      <th>VC06</th>\n",
       "      <th>VC07</th>\n",
       "      <th>VC08</th>\n",
       "      <th>...</th>\n",
       "      <th>VC206</th>\n",
       "      <th>VC207</th>\n",
       "      <th>VC208</th>\n",
       "      <th>VC209</th>\n",
       "      <th>VC210</th>\n",
       "      <th>VC211</th>\n",
       "      <th>VC212</th>\n",
       "      <th>VC216</th>\n",
       "      <th>VC217</th>\n",
       "      <th>VC218</th>\n",
       "    </tr>\n",
       "  </thead>\n",
       "  <tbody>\n",
       "    <tr>\n",
       "      <th>0</th>\n",
       "      <td>North Beach</td>\n",
       "      <td>01/2003</td>\n",
       "      <td>168</td>\n",
       "      <td>10100</td>\n",
       "      <td>2059</td>\n",
       "      <td>815</td>\n",
       "      <td>178</td>\n",
       "      <td>545</td>\n",
       "      <td>140</td>\n",
       "      <td>17</td>\n",
       "      <td>...</td>\n",
       "      <td>0</td>\n",
       "      <td>0</td>\n",
       "      <td>22</td>\n",
       "      <td>0</td>\n",
       "      <td>0</td>\n",
       "      <td>0</td>\n",
       "      <td>14</td>\n",
       "      <td>0.0</td>\n",
       "      <td>0.0</td>\n",
       "      <td>0.0</td>\n",
       "    </tr>\n",
       "    <tr>\n",
       "      <th>1</th>\n",
       "      <td>North Beach</td>\n",
       "      <td>01/2004</td>\n",
       "      <td>162</td>\n",
       "      <td>10100</td>\n",
       "      <td>2059</td>\n",
       "      <td>815</td>\n",
       "      <td>178</td>\n",
       "      <td>545</td>\n",
       "      <td>140</td>\n",
       "      <td>17</td>\n",
       "      <td>...</td>\n",
       "      <td>0</td>\n",
       "      <td>0</td>\n",
       "      <td>22</td>\n",
       "      <td>0</td>\n",
       "      <td>0</td>\n",
       "      <td>0</td>\n",
       "      <td>14</td>\n",
       "      <td>0.0</td>\n",
       "      <td>0.0</td>\n",
       "      <td>0.0</td>\n",
       "    </tr>\n",
       "    <tr>\n",
       "      <th>2</th>\n",
       "      <td>North Beach</td>\n",
       "      <td>01/2005</td>\n",
       "      <td>174</td>\n",
       "      <td>10100</td>\n",
       "      <td>2059</td>\n",
       "      <td>815</td>\n",
       "      <td>178</td>\n",
       "      <td>545</td>\n",
       "      <td>140</td>\n",
       "      <td>17</td>\n",
       "      <td>...</td>\n",
       "      <td>0</td>\n",
       "      <td>0</td>\n",
       "      <td>22</td>\n",
       "      <td>0</td>\n",
       "      <td>0</td>\n",
       "      <td>0</td>\n",
       "      <td>14</td>\n",
       "      <td>0.0</td>\n",
       "      <td>0.0</td>\n",
       "      <td>0.0</td>\n",
       "    </tr>\n",
       "    <tr>\n",
       "      <th>3</th>\n",
       "      <td>North Beach</td>\n",
       "      <td>01/2006</td>\n",
       "      <td>185</td>\n",
       "      <td>10100</td>\n",
       "      <td>2059</td>\n",
       "      <td>815</td>\n",
       "      <td>178</td>\n",
       "      <td>545</td>\n",
       "      <td>140</td>\n",
       "      <td>17</td>\n",
       "      <td>...</td>\n",
       "      <td>0</td>\n",
       "      <td>0</td>\n",
       "      <td>22</td>\n",
       "      <td>0</td>\n",
       "      <td>0</td>\n",
       "      <td>0</td>\n",
       "      <td>14</td>\n",
       "      <td>0.0</td>\n",
       "      <td>0.0</td>\n",
       "      <td>0.0</td>\n",
       "    </tr>\n",
       "    <tr>\n",
       "      <th>4</th>\n",
       "      <td>North Beach</td>\n",
       "      <td>01/2007</td>\n",
       "      <td>153</td>\n",
       "      <td>10100</td>\n",
       "      <td>2059</td>\n",
       "      <td>815</td>\n",
       "      <td>178</td>\n",
       "      <td>545</td>\n",
       "      <td>140</td>\n",
       "      <td>17</td>\n",
       "      <td>...</td>\n",
       "      <td>0</td>\n",
       "      <td>0</td>\n",
       "      <td>22</td>\n",
       "      <td>0</td>\n",
       "      <td>0</td>\n",
       "      <td>0</td>\n",
       "      <td>14</td>\n",
       "      <td>0.0</td>\n",
       "      <td>0.0</td>\n",
       "      <td>0.0</td>\n",
       "    </tr>\n",
       "  </tbody>\n",
       "</table>\n",
       "<p>5 rows × 156 columns</p>\n",
       "</div>"
      ],
      "text/plain": [
       "  neighborhood Month_Year  number_crimes  tractce10  VC03  VC04  VC05  VC06  \\\n",
       "0  North Beach    01/2003            168      10100  2059   815   178   545   \n",
       "1  North Beach    01/2004            162      10100  2059   815   178   545   \n",
       "2  North Beach    01/2005            174      10100  2059   815   178   545   \n",
       "3  North Beach    01/2006            185      10100  2059   815   178   545   \n",
       "4  North Beach    01/2007            153      10100  2059   815   178   545   \n",
       "\n",
       "   VC07  VC08  ...  VC206  VC207  VC208  VC209  VC210  VC211  VC212  VC216  \\\n",
       "0   140    17  ...      0      0     22      0      0      0     14    0.0   \n",
       "1   140    17  ...      0      0     22      0      0      0     14    0.0   \n",
       "2   140    17  ...      0      0     22      0      0      0     14    0.0   \n",
       "3   140    17  ...      0      0     22      0      0      0     14    0.0   \n",
       "4   140    17  ...      0      0     22      0      0      0     14    0.0   \n",
       "\n",
       "   VC217  VC218  \n",
       "0    0.0    0.0  \n",
       "1    0.0    0.0  \n",
       "2    0.0    0.0  \n",
       "3    0.0    0.0  \n",
       "4    0.0    0.0  \n",
       "\n",
       "[5 rows x 156 columns]"
      ]
     },
     "execution_count": 31,
     "metadata": {},
     "output_type": "execute_result"
    }
   ],
   "source": [
    "df.head(5)\n",
    "# print(df.columns.to_list())"
   ]
  },
  {
   "cell_type": "code",
   "execution_count": 32,
   "metadata": {},
   "outputs": [],
   "source": [
    "df[\"Month_Year\"] = pd.to_datetime(df[\"Month_Year\"])"
   ]
  },
  {
   "cell_type": "code",
   "execution_count": 33,
   "metadata": {
    "scrolled": true
   },
   "outputs": [
    {
     "data": {
      "text/html": [
       "<div>\n",
       "<style scoped>\n",
       "    .dataframe tbody tr th:only-of-type {\n",
       "        vertical-align: middle;\n",
       "    }\n",
       "\n",
       "    .dataframe tbody tr th {\n",
       "        vertical-align: top;\n",
       "    }\n",
       "\n",
       "    .dataframe thead th {\n",
       "        text-align: right;\n",
       "    }\n",
       "</style>\n",
       "<table border=\"1\" class=\"dataframe\">\n",
       "  <thead>\n",
       "    <tr style=\"text-align: right;\">\n",
       "      <th></th>\n",
       "      <th>neighborhood</th>\n",
       "      <th>Month_Year</th>\n",
       "      <th>yyyy</th>\n",
       "      <th>mm</th>\n",
       "      <th>number_crimes</th>\n",
       "      <th>tractce10</th>\n",
       "      <th>VC03</th>\n",
       "      <th>VC04</th>\n",
       "      <th>VC05</th>\n",
       "      <th>VC06</th>\n",
       "      <th>...</th>\n",
       "      <th>VC206</th>\n",
       "      <th>VC207</th>\n",
       "      <th>VC208</th>\n",
       "      <th>VC209</th>\n",
       "      <th>VC210</th>\n",
       "      <th>VC211</th>\n",
       "      <th>VC212</th>\n",
       "      <th>VC216</th>\n",
       "      <th>VC217</th>\n",
       "      <th>VC218</th>\n",
       "    </tr>\n",
       "  </thead>\n",
       "  <tbody>\n",
       "    <tr>\n",
       "      <th>0</th>\n",
       "      <td>North Beach</td>\n",
       "      <td>2003-01-01</td>\n",
       "      <td>2003</td>\n",
       "      <td>1</td>\n",
       "      <td>168</td>\n",
       "      <td>10100</td>\n",
       "      <td>2059</td>\n",
       "      <td>815</td>\n",
       "      <td>178</td>\n",
       "      <td>545</td>\n",
       "      <td>...</td>\n",
       "      <td>0</td>\n",
       "      <td>0</td>\n",
       "      <td>22</td>\n",
       "      <td>0</td>\n",
       "      <td>0</td>\n",
       "      <td>0</td>\n",
       "      <td>14</td>\n",
       "      <td>0.0</td>\n",
       "      <td>0.0</td>\n",
       "      <td>0.0</td>\n",
       "    </tr>\n",
       "    <tr>\n",
       "      <th>1</th>\n",
       "      <td>North Beach</td>\n",
       "      <td>2004-01-01</td>\n",
       "      <td>2004</td>\n",
       "      <td>1</td>\n",
       "      <td>162</td>\n",
       "      <td>10100</td>\n",
       "      <td>2059</td>\n",
       "      <td>815</td>\n",
       "      <td>178</td>\n",
       "      <td>545</td>\n",
       "      <td>...</td>\n",
       "      <td>0</td>\n",
       "      <td>0</td>\n",
       "      <td>22</td>\n",
       "      <td>0</td>\n",
       "      <td>0</td>\n",
       "      <td>0</td>\n",
       "      <td>14</td>\n",
       "      <td>0.0</td>\n",
       "      <td>0.0</td>\n",
       "      <td>0.0</td>\n",
       "    </tr>\n",
       "    <tr>\n",
       "      <th>2</th>\n",
       "      <td>North Beach</td>\n",
       "      <td>2005-01-01</td>\n",
       "      <td>2005</td>\n",
       "      <td>1</td>\n",
       "      <td>174</td>\n",
       "      <td>10100</td>\n",
       "      <td>2059</td>\n",
       "      <td>815</td>\n",
       "      <td>178</td>\n",
       "      <td>545</td>\n",
       "      <td>...</td>\n",
       "      <td>0</td>\n",
       "      <td>0</td>\n",
       "      <td>22</td>\n",
       "      <td>0</td>\n",
       "      <td>0</td>\n",
       "      <td>0</td>\n",
       "      <td>14</td>\n",
       "      <td>0.0</td>\n",
       "      <td>0.0</td>\n",
       "      <td>0.0</td>\n",
       "    </tr>\n",
       "    <tr>\n",
       "      <th>3</th>\n",
       "      <td>North Beach</td>\n",
       "      <td>2006-01-01</td>\n",
       "      <td>2006</td>\n",
       "      <td>1</td>\n",
       "      <td>185</td>\n",
       "      <td>10100</td>\n",
       "      <td>2059</td>\n",
       "      <td>815</td>\n",
       "      <td>178</td>\n",
       "      <td>545</td>\n",
       "      <td>...</td>\n",
       "      <td>0</td>\n",
       "      <td>0</td>\n",
       "      <td>22</td>\n",
       "      <td>0</td>\n",
       "      <td>0</td>\n",
       "      <td>0</td>\n",
       "      <td>14</td>\n",
       "      <td>0.0</td>\n",
       "      <td>0.0</td>\n",
       "      <td>0.0</td>\n",
       "    </tr>\n",
       "    <tr>\n",
       "      <th>4</th>\n",
       "      <td>North Beach</td>\n",
       "      <td>2007-01-01</td>\n",
       "      <td>2007</td>\n",
       "      <td>1</td>\n",
       "      <td>153</td>\n",
       "      <td>10100</td>\n",
       "      <td>2059</td>\n",
       "      <td>815</td>\n",
       "      <td>178</td>\n",
       "      <td>545</td>\n",
       "      <td>...</td>\n",
       "      <td>0</td>\n",
       "      <td>0</td>\n",
       "      <td>22</td>\n",
       "      <td>0</td>\n",
       "      <td>0</td>\n",
       "      <td>0</td>\n",
       "      <td>14</td>\n",
       "      <td>0.0</td>\n",
       "      <td>0.0</td>\n",
       "      <td>0.0</td>\n",
       "    </tr>\n",
       "  </tbody>\n",
       "</table>\n",
       "<p>5 rows × 158 columns</p>\n",
       "</div>"
      ],
      "text/plain": [
       "  neighborhood Month_Year  yyyy  mm  number_crimes  tractce10  VC03  VC04  \\\n",
       "0  North Beach 2003-01-01  2003   1            168      10100  2059   815   \n",
       "1  North Beach 2004-01-01  2004   1            162      10100  2059   815   \n",
       "2  North Beach 2005-01-01  2005   1            174      10100  2059   815   \n",
       "3  North Beach 2006-01-01  2006   1            185      10100  2059   815   \n",
       "4  North Beach 2007-01-01  2007   1            153      10100  2059   815   \n",
       "\n",
       "   VC05  VC06  ...  VC206  VC207  VC208  VC209  VC210  VC211  VC212  VC216  \\\n",
       "0   178   545  ...      0      0     22      0      0      0     14    0.0   \n",
       "1   178   545  ...      0      0     22      0      0      0     14    0.0   \n",
       "2   178   545  ...      0      0     22      0      0      0     14    0.0   \n",
       "3   178   545  ...      0      0     22      0      0      0     14    0.0   \n",
       "4   178   545  ...      0      0     22      0      0      0     14    0.0   \n",
       "\n",
       "   VC217  VC218  \n",
       "0    0.0    0.0  \n",
       "1    0.0    0.0  \n",
       "2    0.0    0.0  \n",
       "3    0.0    0.0  \n",
       "4    0.0    0.0  \n",
       "\n",
       "[5 rows x 158 columns]"
      ]
     },
     "execution_count": 33,
     "metadata": {},
     "output_type": "execute_result"
    }
   ],
   "source": [
    "df['yyyy'] = pd.to_datetime(df['Month_Year']).dt.year\n",
    "df['mm'] = pd.to_datetime(df['Month_Year']).dt.month\n",
    "\n",
    "move_1 = df.pop(\"yyyy\")\n",
    "df.insert(2, \"yyyy\", move_1 )\n",
    "\n",
    "move_2 = df.pop(\"mm\")\n",
    "df.insert(3, \"mm\", move_2 )\n",
    "\n",
    "df.head()"
   ]
  },
  {
   "cell_type": "code",
   "execution_count": 34,
   "metadata": {},
   "outputs": [
    {
     "data": {
      "text/plain": [
       "array(['North Beach', 'Russian Hill', 'Financial District/South Beach',\n",
       "       'Chinatown', 'Nob Hill', 'Tenderloin', 'Marina', 'Pacific Heights',\n",
       "       'Presidio Heights', 'Western Addition', 'Japantown',\n",
       "       'Lone Mountain/USF', 'Hayes Valley', 'Haight Ashbury',\n",
       "       'Castro/Upper Market', 'South of Market', 'Mission',\n",
       "       'Treasure Island', 'Twin Peaks', 'Noe Valley', 'Glen Park',\n",
       "       'Potrero Hill', 'Bayview Hunters Point', 'Bernal Heights',\n",
       "       'Outer Mission', 'Excelsior', 'Portola', 'Visitacion Valley',\n",
       "       'Inner Sunset', 'West of Twin Peaks', 'Oceanview/Merced/Ingleside',\n",
       "       'Sunset/Parkside', 'Lakeshore', 'Inner Richmond', 'Outer Richmond',\n",
       "       'Seacliff', 'Presidio', 'Mission Bay', 'Lincoln Park',\n",
       "       'Golden Gate Park', 'McLaren Park'], dtype=object)"
      ]
     },
     "execution_count": 34,
     "metadata": {},
     "output_type": "execute_result"
    }
   ],
   "source": [
    "df['neighborhood'].unique()"
   ]
  },
  {
   "cell_type": "code",
   "execution_count": 35,
   "metadata": {},
   "outputs": [
    {
     "data": {
      "text/html": [
       "<div>\n",
       "<style scoped>\n",
       "    .dataframe tbody tr th:only-of-type {\n",
       "        vertical-align: middle;\n",
       "    }\n",
       "\n",
       "    .dataframe tbody tr th {\n",
       "        vertical-align: top;\n",
       "    }\n",
       "\n",
       "    .dataframe thead th {\n",
       "        text-align: right;\n",
       "    }\n",
       "</style>\n",
       "<table border=\"1\" class=\"dataframe\">\n",
       "  <thead>\n",
       "    <tr style=\"text-align: right;\">\n",
       "      <th></th>\n",
       "      <th>neighborhood</th>\n",
       "      <th>yyyy</th>\n",
       "      <th>mm</th>\n",
       "      <th>tractce10</th>\n",
       "      <th>VC03</th>\n",
       "      <th>VC04</th>\n",
       "      <th>VC05</th>\n",
       "      <th>VC06</th>\n",
       "      <th>VC07</th>\n",
       "      <th>VC08</th>\n",
       "      <th>...</th>\n",
       "      <th>VC206</th>\n",
       "      <th>VC207</th>\n",
       "      <th>VC208</th>\n",
       "      <th>VC209</th>\n",
       "      <th>VC210</th>\n",
       "      <th>VC211</th>\n",
       "      <th>VC212</th>\n",
       "      <th>VC216</th>\n",
       "      <th>VC217</th>\n",
       "      <th>VC218</th>\n",
       "    </tr>\n",
       "  </thead>\n",
       "  <tbody>\n",
       "    <tr>\n",
       "      <th>0</th>\n",
       "      <td>1</td>\n",
       "      <td>2003</td>\n",
       "      <td>1</td>\n",
       "      <td>10100</td>\n",
       "      <td>2059</td>\n",
       "      <td>815</td>\n",
       "      <td>178</td>\n",
       "      <td>545</td>\n",
       "      <td>140</td>\n",
       "      <td>17</td>\n",
       "      <td>...</td>\n",
       "      <td>0</td>\n",
       "      <td>0</td>\n",
       "      <td>22</td>\n",
       "      <td>0</td>\n",
       "      <td>0</td>\n",
       "      <td>0</td>\n",
       "      <td>14</td>\n",
       "      <td>0.0</td>\n",
       "      <td>0.0</td>\n",
       "      <td>0.0</td>\n",
       "    </tr>\n",
       "    <tr>\n",
       "      <th>1</th>\n",
       "      <td>1</td>\n",
       "      <td>2004</td>\n",
       "      <td>1</td>\n",
       "      <td>10100</td>\n",
       "      <td>2059</td>\n",
       "      <td>815</td>\n",
       "      <td>178</td>\n",
       "      <td>545</td>\n",
       "      <td>140</td>\n",
       "      <td>17</td>\n",
       "      <td>...</td>\n",
       "      <td>0</td>\n",
       "      <td>0</td>\n",
       "      <td>22</td>\n",
       "      <td>0</td>\n",
       "      <td>0</td>\n",
       "      <td>0</td>\n",
       "      <td>14</td>\n",
       "      <td>0.0</td>\n",
       "      <td>0.0</td>\n",
       "      <td>0.0</td>\n",
       "    </tr>\n",
       "    <tr>\n",
       "      <th>2</th>\n",
       "      <td>1</td>\n",
       "      <td>2005</td>\n",
       "      <td>1</td>\n",
       "      <td>10100</td>\n",
       "      <td>2059</td>\n",
       "      <td>815</td>\n",
       "      <td>178</td>\n",
       "      <td>545</td>\n",
       "      <td>140</td>\n",
       "      <td>17</td>\n",
       "      <td>...</td>\n",
       "      <td>0</td>\n",
       "      <td>0</td>\n",
       "      <td>22</td>\n",
       "      <td>0</td>\n",
       "      <td>0</td>\n",
       "      <td>0</td>\n",
       "      <td>14</td>\n",
       "      <td>0.0</td>\n",
       "      <td>0.0</td>\n",
       "      <td>0.0</td>\n",
       "    </tr>\n",
       "    <tr>\n",
       "      <th>3</th>\n",
       "      <td>1</td>\n",
       "      <td>2006</td>\n",
       "      <td>1</td>\n",
       "      <td>10100</td>\n",
       "      <td>2059</td>\n",
       "      <td>815</td>\n",
       "      <td>178</td>\n",
       "      <td>545</td>\n",
       "      <td>140</td>\n",
       "      <td>17</td>\n",
       "      <td>...</td>\n",
       "      <td>0</td>\n",
       "      <td>0</td>\n",
       "      <td>22</td>\n",
       "      <td>0</td>\n",
       "      <td>0</td>\n",
       "      <td>0</td>\n",
       "      <td>14</td>\n",
       "      <td>0.0</td>\n",
       "      <td>0.0</td>\n",
       "      <td>0.0</td>\n",
       "    </tr>\n",
       "    <tr>\n",
       "      <th>4</th>\n",
       "      <td>1</td>\n",
       "      <td>2007</td>\n",
       "      <td>1</td>\n",
       "      <td>10100</td>\n",
       "      <td>2059</td>\n",
       "      <td>815</td>\n",
       "      <td>178</td>\n",
       "      <td>545</td>\n",
       "      <td>140</td>\n",
       "      <td>17</td>\n",
       "      <td>...</td>\n",
       "      <td>0</td>\n",
       "      <td>0</td>\n",
       "      <td>22</td>\n",
       "      <td>0</td>\n",
       "      <td>0</td>\n",
       "      <td>0</td>\n",
       "      <td>14</td>\n",
       "      <td>0.0</td>\n",
       "      <td>0.0</td>\n",
       "      <td>0.0</td>\n",
       "    </tr>\n",
       "  </tbody>\n",
       "</table>\n",
       "<p>5 rows × 156 columns</p>\n",
       "</div>"
      ],
      "text/plain": [
       "   neighborhood  yyyy  mm  tractce10  VC03  VC04  VC05  VC06  VC07  VC08  ...  \\\n",
       "0             1  2003   1      10100  2059   815   178   545   140    17  ...   \n",
       "1             1  2004   1      10100  2059   815   178   545   140    17  ...   \n",
       "2             1  2005   1      10100  2059   815   178   545   140    17  ...   \n",
       "3             1  2006   1      10100  2059   815   178   545   140    17  ...   \n",
       "4             1  2007   1      10100  2059   815   178   545   140    17  ...   \n",
       "\n",
       "   VC206  VC207  VC208  VC209  VC210  VC211  VC212  VC216  VC217  VC218  \n",
       "0      0      0     22      0      0      0     14    0.0    0.0    0.0  \n",
       "1      0      0     22      0      0      0     14    0.0    0.0    0.0  \n",
       "2      0      0     22      0      0      0     14    0.0    0.0    0.0  \n",
       "3      0      0     22      0      0      0     14    0.0    0.0    0.0  \n",
       "4      0      0     22      0      0      0     14    0.0    0.0    0.0  \n",
       "\n",
       "[5 rows x 156 columns]"
      ]
     },
     "execution_count": 35,
     "metadata": {},
     "output_type": "execute_result"
    }
   ],
   "source": [
    "df['neighborhood'] = pd.factorize(df.neighborhood)[0] + 1\n",
    "X = df\n",
    "\n",
    "X = X.drop(['number_crimes'], axis=1)\n",
    "X = X.drop(['Month_Year'], axis=1) #now that we have month and year as their own columns, this is okay. \n",
    "X.head()\n",
    "\n",
    "y = df['number_crimes']"
   ]
  },
  {
   "cell_type": "code",
   "execution_count": 36,
   "metadata": {},
   "outputs": [],
   "source": [
    "# # https://towardsdatascience.com/data-cleaning-series-with-python-part-1-24bb603c82c8#:~:text=the%20number%200.-,Central%20Value%20Imputation,-Central%20value%20imputation\n",
    "# from sklearn.impute import SimpleImputer\n",
    "\n",
    "# num_imputer = SimpleImputer(missing_values=np.nan, strategy='mean')\n",
    "\n",
    "# vals = X.values\n",
    "\n",
    "# # Fit imputer to data to retrieve central measure:\n",
    "# num_imputer.fit(vals)\n",
    "\n",
    "# # Transforming missing data points to mean value:\n",
    "# num_imputer.transform(vals)"
   ]
  },
  {
   "cell_type": "code",
   "execution_count": 37,
   "metadata": {},
   "outputs": [
    {
     "data": {
      "text/html": [
       "<div>\n",
       "<style scoped>\n",
       "    .dataframe tbody tr th:only-of-type {\n",
       "        vertical-align: middle;\n",
       "    }\n",
       "\n",
       "    .dataframe tbody tr th {\n",
       "        vertical-align: top;\n",
       "    }\n",
       "\n",
       "    .dataframe thead th {\n",
       "        text-align: right;\n",
       "    }\n",
       "</style>\n",
       "<table border=\"1\" class=\"dataframe\">\n",
       "  <thead>\n",
       "    <tr style=\"text-align: right;\">\n",
       "      <th></th>\n",
       "      <th>neighborhood</th>\n",
       "      <th>yyyy</th>\n",
       "      <th>mm</th>\n",
       "      <th>tractce10</th>\n",
       "      <th>VC03</th>\n",
       "      <th>VC04</th>\n",
       "      <th>VC05</th>\n",
       "      <th>VC06</th>\n",
       "      <th>VC07</th>\n",
       "      <th>VC08</th>\n",
       "      <th>...</th>\n",
       "      <th>VC206</th>\n",
       "      <th>VC207</th>\n",
       "      <th>VC208</th>\n",
       "      <th>VC209</th>\n",
       "      <th>VC210</th>\n",
       "      <th>VC211</th>\n",
       "      <th>VC212</th>\n",
       "      <th>VC216</th>\n",
       "      <th>VC217</th>\n",
       "      <th>VC218</th>\n",
       "    </tr>\n",
       "  </thead>\n",
       "  <tbody>\n",
       "    <tr>\n",
       "      <th>0</th>\n",
       "      <td>-1.790999</td>\n",
       "      <td>-1.619670</td>\n",
       "      <td>-1.577822</td>\n",
       "      <td>-0.26049</td>\n",
       "      <td>0.284194</td>\n",
       "      <td>-0.082777</td>\n",
       "      <td>-0.718781</td>\n",
       "      <td>-0.270253</td>\n",
       "      <td>-0.636843</td>\n",
       "      <td>-0.915586</td>\n",
       "      <td>...</td>\n",
       "      <td>-0.424159</td>\n",
       "      <td>-0.51859</td>\n",
       "      <td>-0.583695</td>\n",
       "      <td>-0.651127</td>\n",
       "      <td>-0.643267</td>\n",
       "      <td>-0.838539</td>\n",
       "      <td>0.157638</td>\n",
       "      <td>0.0</td>\n",
       "      <td>0.0</td>\n",
       "      <td>0.0</td>\n",
       "    </tr>\n",
       "    <tr>\n",
       "      <th>1</th>\n",
       "      <td>-1.790999</td>\n",
       "      <td>-1.389740</td>\n",
       "      <td>-1.577822</td>\n",
       "      <td>-0.26049</td>\n",
       "      <td>0.284194</td>\n",
       "      <td>-0.082777</td>\n",
       "      <td>-0.718781</td>\n",
       "      <td>-0.270253</td>\n",
       "      <td>-0.636843</td>\n",
       "      <td>-0.915586</td>\n",
       "      <td>...</td>\n",
       "      <td>-0.424159</td>\n",
       "      <td>-0.51859</td>\n",
       "      <td>-0.583695</td>\n",
       "      <td>-0.651127</td>\n",
       "      <td>-0.643267</td>\n",
       "      <td>-0.838539</td>\n",
       "      <td>0.157638</td>\n",
       "      <td>0.0</td>\n",
       "      <td>0.0</td>\n",
       "      <td>0.0</td>\n",
       "    </tr>\n",
       "    <tr>\n",
       "      <th>2</th>\n",
       "      <td>-1.790999</td>\n",
       "      <td>-1.159811</td>\n",
       "      <td>-1.577822</td>\n",
       "      <td>-0.26049</td>\n",
       "      <td>0.284194</td>\n",
       "      <td>-0.082777</td>\n",
       "      <td>-0.718781</td>\n",
       "      <td>-0.270253</td>\n",
       "      <td>-0.636843</td>\n",
       "      <td>-0.915586</td>\n",
       "      <td>...</td>\n",
       "      <td>-0.424159</td>\n",
       "      <td>-0.51859</td>\n",
       "      <td>-0.583695</td>\n",
       "      <td>-0.651127</td>\n",
       "      <td>-0.643267</td>\n",
       "      <td>-0.838539</td>\n",
       "      <td>0.157638</td>\n",
       "      <td>0.0</td>\n",
       "      <td>0.0</td>\n",
       "      <td>0.0</td>\n",
       "    </tr>\n",
       "    <tr>\n",
       "      <th>3</th>\n",
       "      <td>-1.790999</td>\n",
       "      <td>-0.929881</td>\n",
       "      <td>-1.577822</td>\n",
       "      <td>-0.26049</td>\n",
       "      <td>0.284194</td>\n",
       "      <td>-0.082777</td>\n",
       "      <td>-0.718781</td>\n",
       "      <td>-0.270253</td>\n",
       "      <td>-0.636843</td>\n",
       "      <td>-0.915586</td>\n",
       "      <td>...</td>\n",
       "      <td>-0.424159</td>\n",
       "      <td>-0.51859</td>\n",
       "      <td>-0.583695</td>\n",
       "      <td>-0.651127</td>\n",
       "      <td>-0.643267</td>\n",
       "      <td>-0.838539</td>\n",
       "      <td>0.157638</td>\n",
       "      <td>0.0</td>\n",
       "      <td>0.0</td>\n",
       "      <td>0.0</td>\n",
       "    </tr>\n",
       "    <tr>\n",
       "      <th>4</th>\n",
       "      <td>-1.790999</td>\n",
       "      <td>-0.699951</td>\n",
       "      <td>-1.577822</td>\n",
       "      <td>-0.26049</td>\n",
       "      <td>0.284194</td>\n",
       "      <td>-0.082777</td>\n",
       "      <td>-0.718781</td>\n",
       "      <td>-0.270253</td>\n",
       "      <td>-0.636843</td>\n",
       "      <td>-0.915586</td>\n",
       "      <td>...</td>\n",
       "      <td>-0.424159</td>\n",
       "      <td>-0.51859</td>\n",
       "      <td>-0.583695</td>\n",
       "      <td>-0.651127</td>\n",
       "      <td>-0.643267</td>\n",
       "      <td>-0.838539</td>\n",
       "      <td>0.157638</td>\n",
       "      <td>0.0</td>\n",
       "      <td>0.0</td>\n",
       "      <td>0.0</td>\n",
       "    </tr>\n",
       "  </tbody>\n",
       "</table>\n",
       "<p>5 rows × 156 columns</p>\n",
       "</div>"
      ],
      "text/plain": [
       "   neighborhood      yyyy        mm  tractce10      VC03      VC04      VC05  \\\n",
       "0     -1.790999 -1.619670 -1.577822   -0.26049  0.284194 -0.082777 -0.718781   \n",
       "1     -1.790999 -1.389740 -1.577822   -0.26049  0.284194 -0.082777 -0.718781   \n",
       "2     -1.790999 -1.159811 -1.577822   -0.26049  0.284194 -0.082777 -0.718781   \n",
       "3     -1.790999 -0.929881 -1.577822   -0.26049  0.284194 -0.082777 -0.718781   \n",
       "4     -1.790999 -0.699951 -1.577822   -0.26049  0.284194 -0.082777 -0.718781   \n",
       "\n",
       "       VC06      VC07      VC08  ...     VC206    VC207     VC208     VC209  \\\n",
       "0 -0.270253 -0.636843 -0.915586  ... -0.424159 -0.51859 -0.583695 -0.651127   \n",
       "1 -0.270253 -0.636843 -0.915586  ... -0.424159 -0.51859 -0.583695 -0.651127   \n",
       "2 -0.270253 -0.636843 -0.915586  ... -0.424159 -0.51859 -0.583695 -0.651127   \n",
       "3 -0.270253 -0.636843 -0.915586  ... -0.424159 -0.51859 -0.583695 -0.651127   \n",
       "4 -0.270253 -0.636843 -0.915586  ... -0.424159 -0.51859 -0.583695 -0.651127   \n",
       "\n",
       "      VC210     VC211     VC212  VC216  VC217  VC218  \n",
       "0 -0.643267 -0.838539  0.157638    0.0    0.0    0.0  \n",
       "1 -0.643267 -0.838539  0.157638    0.0    0.0    0.0  \n",
       "2 -0.643267 -0.838539  0.157638    0.0    0.0    0.0  \n",
       "3 -0.643267 -0.838539  0.157638    0.0    0.0    0.0  \n",
       "4 -0.643267 -0.838539  0.157638    0.0    0.0    0.0  \n",
       "\n",
       "[5 rows x 156 columns]"
      ]
     },
     "execution_count": 37,
     "metadata": {},
     "output_type": "execute_result"
    }
   ],
   "source": [
    "scaler = StandardScaler()\n",
    "X = pd.DataFrame(scaler.fit_transform(X.values), columns=X.columns, index=X.index)\n",
    "X.head()\n",
    "\n",
    "y = df['number_crimes']"
   ]
  },
  {
   "cell_type": "code",
   "execution_count": 38,
   "metadata": {},
   "outputs": [],
   "source": [
    "# split the data to create a training and testing split\n",
    "# train_test_split returns 4 values: X_train, X_test, y_train, y_test\n",
    "\n",
    "X_train, X_test, y_train, y_test = train_test_split(X, y,\n",
    "                                                    train_size=0.80, test_size=0.20)"
   ]
  },
  {
   "cell_type": "code",
   "execution_count": 39,
   "metadata": {},
   "outputs": [],
   "source": [
    "# split the data to create a validation split \n",
    "# Returns 4 values: X_train, X_validate, y_train, y_validate\n",
    "\n",
    "X_train, X_validate, y_train, y_validate = train_test_split(X_train, y_train,\n",
    "                                                    train_size=0.75, test_size=0.25)"
   ]
  },
  {
   "cell_type": "markdown",
   "metadata": {},
   "source": [
    "2.3.2) How much data should be used for each, and why? What are the tradeoffs with various choices?"
   ]
  },
  {
   "cell_type": "markdown",
   "metadata": {},
   "source": [
    "For our test set, we're using a 80/20 split.\n",
    "For our validation set, we're using a 75/25 split. \n",
    "\n",
    "The 75/25 split is kind of a arbitrary number, but it is the general standard so we're going to use it here. Basically, the tradeoff with using more or less training data is that the less you use, the more likely you're going to improperly make predictions in your model. However, the more you use, the more likely you are to train specifically to the model and overfit your data. "
   ]
  },
  {
   "cell_type": "markdown",
   "metadata": {},
   "source": [
    "# 3 Train Model "
   ]
  },
  {
   "cell_type": "markdown",
   "metadata": {},
   "source": [
    "3.1) Is this a classification or regression problem? Why?"
   ]
  },
  {
   "cell_type": "markdown",
   "metadata": {},
   "source": [
    "This is a regression problem. We're not trying to perform image classifications or label things, we're trying to predict crime rates (well not exactly) based on current information. In a classification problem, there's only a yes/no or is/isn't criterion we're trying to meet. Additionally, in classification regressions, we calculate the odds of a classification happening, and that's not what we're doing with this model either. "
   ]
  },
  {
   "cell_type": "markdown",
   "metadata": {},
   "source": [
    "3.2) Choose 3 different machine learning/prediction techniques. Detail the basic logic underlying each, the pros and cons, whether it is parametric or non-parametric etc. Also discuss why it may be an appropriate choice for\n",
    "this particular problem."
   ]
  },
  {
   "cell_type": "markdown",
   "metadata": {},
   "source": [
    "I'm going to complete OLS, Ridge, and LASSO regressions initially because I have direct examples of them, but will explore other techniques later. I'm interested in this article: https://www.jigsawacademy.com/popular-regression-algorithms-ml/\n",
    "\n",
    "OLS: \n",
    "description: OLS is an Ordinary Least Squares regression, and is the kind of linear regression that people are usually most familiar with. \n",
    "pros: simple to implement, works with multiple kinds of variables, efficient\n",
    "cons: overly simple, asssumes linear relationship, struggles to determine feature importance\n",
    "parametric: non-parametric\n",
    "why we're using it: easy to implement, and makes a wonderful baseline model for our project.\n",
    "\n",
    "\n",
    "Ridge:\n",
    "description: Ridge is a similarly linear regression, but before we run the model on the test data, we introduce a small amount of bias in order to get a significant drop in variance. It may not fit the training data as well, but in application works much better on testing data.\n",
    "pros: can work with small datasets before more data is added, still farily simple, prevents overfitting well\n",
    "cons: necessitates increased bias, needs more tuning, more difficult to interpret\n",
    "parametric: parametric\n",
    "why we're using it: Still easy enough to implement. \n",
    "\n",
    "\n",
    "LASSO:\n",
    "description: LASSO regression is essentially the same as ridge regression, except that instead of squaring the slope, it takes it's absolute value. The important difference is that LASSO can effectively incorporate features that may not matter, even as they go to zero. \n",
    "pros: is more flexible with features, prevents overfitting well\n",
    "cons: can have different performance based on the dataframe\n",
    "parametric: parametric\n",
    "why we're using it: Still easy enough to implement. "
   ]
  },
  {
   "cell_type": "markdown",
   "metadata": {},
   "source": [
    "3.3) Train each of the models on your data, and report any relevant summary statistics."
   ]
  },
  {
   "cell_type": "code",
   "execution_count": 40,
   "metadata": {},
   "outputs": [],
   "source": [
    "def rmse(pred, actual):\n",
    "    return np.sqrt(np.mean((pred - actual) ** 2))"
   ]
  },
  {
   "cell_type": "markdown",
   "metadata": {},
   "source": [
    "3.3.1) OLS regression"
   ]
  },
  {
   "cell_type": "code",
   "execution_count": 41,
   "metadata": {},
   "outputs": [],
   "source": [
    "lin_reg = LinearRegression()\n",
    "lin_model = lin_reg.fit(X_train, y_train)"
   ]
  },
  {
   "cell_type": "code",
   "execution_count": 42,
   "metadata": {},
   "outputs": [
    {
     "data": {
      "text/plain": [
       "<matplotlib.collections.PathCollection at 0x1401338c0d0>"
      ]
     },
     "execution_count": 42,
     "metadata": {},
     "output_type": "execute_result"
    },
    {
     "data": {
      "text/plain": [
       "Text(0.5, 1.0, 'Linear Model (OLS)')"
      ]
     },
     "execution_count": 42,
     "metadata": {},
     "output_type": "execute_result"
    },
    {
     "data": {
      "text/plain": [
       "Text(0.5, 0, 'actual value')"
      ]
     },
     "execution_count": 42,
     "metadata": {},
     "output_type": "execute_result"
    },
    {
     "data": {
      "text/plain": [
       "Text(0, 0.5, 'predicted value')"
      ]
     },
     "execution_count": 42,
     "metadata": {},
     "output_type": "execute_result"
    },
    {
     "data": {
      "image/png": "[encoded data removed]",
      "text/plain": [
       "<Figure size 432x288 with 1 Axes>"
      ]
     },
     "metadata": {
      "needs_background": "light"
     },
     "output_type": "display_data"
    },
    {
     "name": "stdout",
     "output_type": "stream",
     "text": [
      "the rmse for an OLS Regression here is 223.62338407187764\n"
     ]
    }
   ],
   "source": [
    "lin_pred = lin_model.predict(X_train)\n",
    "\n",
    "# plot the residuals on a scatter plot\n",
    "plt.scatter(y_train, lin_pred)\n",
    "plt.title('Linear Model (OLS)')\n",
    "plt.xlabel('actual value')\n",
    "plt.ylabel('predicted value')\n",
    "plt.show()\n",
    "\n",
    "print('the rmse for an OLS Regression here is', rmse(lin_pred, y_train))"
   ]
  },
  {
   "cell_type": "markdown",
   "metadata": {},
   "source": [
    "3.3.2) Ridge regression"
   ]
  },
  {
   "cell_type": "code",
   "execution_count": 43,
   "metadata": {},
   "outputs": [],
   "source": [
    "ridge_reg = Ridge() \n",
    "ridge_model = ridge_reg.fit(X_train, y_train)"
   ]
  },
  {
   "cell_type": "code",
   "execution_count": 44,
   "metadata": {},
   "outputs": [
    {
     "data": {
      "text/plain": [
       "<matplotlib.collections.PathCollection at 0x14012863e20>"
      ]
     },
     "execution_count": 44,
     "metadata": {},
     "output_type": "execute_result"
    },
    {
     "data": {
      "text/plain": [
       "Text(0.5, 1.0, 'Ridge Model')"
      ]
     },
     "execution_count": 44,
     "metadata": {},
     "output_type": "execute_result"
    },
    {
     "data": {
      "text/plain": [
       "Text(0.5, 0, 'actual values')"
      ]
     },
     "execution_count": 44,
     "metadata": {},
     "output_type": "execute_result"
    },
    {
     "data": {
      "text/plain": [
       "Text(0, 0.5, 'predicted values')"
      ]
     },
     "execution_count": 44,
     "metadata": {},
     "output_type": "execute_result"
    },
    {
     "data": {
      "image/png": "[encoded data removed]",
      "text/plain": [
       "<Figure size 432x288 with 1 Axes>"
      ]
     },
     "metadata": {
      "needs_background": "light"
     },
     "output_type": "display_data"
    },
    {
     "name": "stdout",
     "output_type": "stream",
     "text": [
      "the rmse for a Ridge Regression here is 223.79996734836988\n"
     ]
    }
   ],
   "source": [
    "# use the model to make predictions\n",
    "ridge_pred = ridge_model.predict(X_train)\n",
    "\n",
    "# plot the predictions\n",
    "plt.scatter(y_train, ridge_pred)\n",
    "plt.title('Ridge Model')\n",
    "plt.xlabel('actual values')\n",
    "plt.ylabel('predicted values')\n",
    "plt.show()\n",
    "\n",
    "print('the rmse for a Ridge Regression here is', rmse(ridge_pred, y_train))"
   ]
  },
  {
   "cell_type": "markdown",
   "metadata": {},
   "source": [
    "3.3.3) Lasso regression"
   ]
  },
  {
   "cell_type": "code",
   "execution_count": 45,
   "metadata": {},
   "outputs": [],
   "source": [
    "# create and fit the model\n",
    "lasso_reg = Lasso(max_iter=10000)  \n",
    "lasso_model = lasso_reg.fit(X_train, y_train)"
   ]
  },
  {
   "cell_type": "code",
   "execution_count": 46,
   "metadata": {},
   "outputs": [
    {
     "data": {
      "text/plain": [
       "<matplotlib.collections.PathCollection at 0x140128cb1f0>"
      ]
     },
     "execution_count": 46,
     "metadata": {},
     "output_type": "execute_result"
    },
    {
     "data": {
      "text/plain": [
       "Text(0.5, 1.0, 'LASSO Model')"
      ]
     },
     "execution_count": 46,
     "metadata": {},
     "output_type": "execute_result"
    },
    {
     "data": {
      "text/plain": [
       "Text(0.5, 0, 'actual values')"
      ]
     },
     "execution_count": 46,
     "metadata": {},
     "output_type": "execute_result"
    },
    {
     "data": {
      "text/plain": [
       "Text(0, 0.5, 'predicted values')"
      ]
     },
     "execution_count": 46,
     "metadata": {},
     "output_type": "execute_result"
    },
    {
     "data": {
      "image/png": "[encoded data removed]",
      "text/plain": [
       "<Figure size 432x288 with 1 Axes>"
      ]
     },
     "metadata": {
      "needs_background": "light"
     },
     "output_type": "display_data"
    },
    {
     "name": "stdout",
     "output_type": "stream",
     "text": [
      "the rmse for a Lasso Regression here is 240.03905312628243\n"
     ]
    }
   ],
   "source": [
    "# use the model to make predictions\n",
    "lasso_pred = lasso_model.predict(X_train)\n",
    "\n",
    "# plot the predictions\n",
    "plt.scatter(y_train, lasso_pred)\n",
    "plt.title('LASSO Model')\n",
    "plt.xlabel('actual values')\n",
    "plt.ylabel('predicted values')\n",
    "plt.show()\n",
    "\n",
    "print('the rmse for a Lasso Regression here is', rmse(lasso_pred, y_train))"
   ]
  },
  {
   "cell_type": "markdown",
   "metadata": {},
   "source": [
    "3.3.4) How well does each model fit the training data?"
   ]
  },
  {
   "cell_type": "code",
   "execution_count": 47,
   "metadata": {},
   "outputs": [],
   "source": [
    "k = len(X_train.columns)\n",
    "n = len(X_train.index)"
   ]
  },
  {
   "cell_type": "code",
   "execution_count": 48,
   "metadata": {},
   "outputs": [],
   "source": [
    "lin_reg_hat = lin_model.predict(X_train)\n",
    "lin_reg_resid = y_train - lin_reg_hat\n",
    "lin_reg_sse = sum(lin_reg_resid**2)\n",
    "\n",
    "lin_AIC = 2*k - 2*np.log(lin_reg_sse)\n",
    "lin_BIC = n*np.log(lin_reg_sse/n) + k*np.log(n)"
   ]
  },
  {
   "cell_type": "code",
   "execution_count": 49,
   "metadata": {},
   "outputs": [],
   "source": [
    "ridge_reg_hat = ridge_model.predict(X_train)\n",
    "ridge_reg_resid = y_train - ridge_reg_hat\n",
    "ridge_reg_sse = sum(ridge_reg_resid**2)\n",
    "\n",
    "ridge_AIC = 2*k - 2*np.log(ridge_reg_sse)\n",
    "ridge_BIC = n*np.log(ridge_reg_sse/n) + k*np.log(n)"
   ]
  },
  {
   "cell_type": "code",
   "execution_count": 50,
   "metadata": {},
   "outputs": [],
   "source": [
    "lasso_reg_hat = lasso_model.predict(X_train)\n",
    "lasso_reg_resid = y_train - lasso_reg_hat\n",
    "lasso_reg_sse = sum(lasso_reg_resid**2)\n",
    "\n",
    "lasso_AIC = 2*k - 2*np.log(lasso_reg_sse)\n",
    "lasso_BIC = n*np.log(lasso_reg_sse/n) + k*np.log(n)"
   ]
  },
  {
   "cell_type": "code",
   "execution_count": 51,
   "metadata": {},
   "outputs": [
    {
     "data": {
      "text/plain": [
       "270.15545154201754"
      ]
     },
     "execution_count": 51,
     "metadata": {},
     "output_type": "execute_result"
    },
    {
     "data": {
      "text/plain": [
       "230687.45094558928"
      ]
     },
     "execution_count": 51,
     "metadata": {},
     "output_type": "execute_result"
    }
   ],
   "source": [
    "min(lin_AIC, ridge_AIC, lasso_AIC)\n",
    "min(lin_BIC, ridge_BIC, lasso_BIC)\n",
    "\n",
    "# lin_AIC\n",
    "# ridge_AIC\n",
    "# lasso_AIC\n",
    "\n",
    "# print('\\n')\n",
    "\n",
    "# lin_BIC\n",
    "# ridge_BIC\n",
    "# lasso_BIC"
   ]
  },
  {
   "cell_type": "code",
   "execution_count": 52,
   "metadata": {},
   "outputs": [
    {
     "name": "stdout",
     "output_type": "stream",
     "text": [
      "Lasso Regression has the lowest AIC score of 270.1829533496053.\n",
      "Linear regression has the lowest BIC score of 3239.0400977215313.\n"
     ]
    }
   ],
   "source": [
    "print('Lasso Regression has the lowest AIC score of 270.1829533496053.\\nLinear regression has the lowest BIC score of 3239.0400977215313.')\n"
   ]
  },
  {
   "cell_type": "markdown",
   "metadata": {},
   "source": [
    "While Linear Regression has the lowest BIC score, I'm also going to test Lasso Regression for it's lowest AIC score. I've already got the feeling that a linear regression isn't quite appropriate for data with so many features, and when I've run cross-validations later in this work I've found that a Lasso Regression is much more accomodating. That, combined with it's appropriate BIC, is why I'm also choosing Lasso Regression. "
   ]
  },
  {
   "cell_type": "markdown",
   "metadata": {},
   "source": [
    "3.4) Tune your model using the training and validation sets. Then choose your best model and run it on the test set."
   ]
  },
  {
   "cell_type": "code",
   "execution_count": 53,
   "metadata": {},
   "outputs": [],
   "source": [
    "# make predictions for each model\n",
    "lin_vpred = lin_model.predict(X_validate)\n",
    "ridge_vpred = ridge_model.predict(X_validate)\n",
    "lasso_vpred = lasso_model.predict(X_validate)\n",
    "\n",
    "lin_testpred = lin_model.predict(X_test)\n",
    "ridge_testpred = ridge_model.predict(X_test)\n",
    "lasso_testpred = lasso_model.predict(X_test)"
   ]
  },
  {
   "cell_type": "code",
   "execution_count": 54,
   "metadata": {
    "scrolled": true
   },
   "outputs": [
    {
     "name": "stdout",
     "output_type": "stream",
     "text": [
      "linear model rmse:  217.9740422972222\n",
      "Ridge rmse:  218.34148018167542\n",
      "LASSO rmse:  233.72360460302176\n"
     ]
    },
    {
     "data": {
      "text/html": [
       "<div>\n",
       "<style scoped>\n",
       "    .dataframe tbody tr th:only-of-type {\n",
       "        vertical-align: middle;\n",
       "    }\n",
       "\n",
       "    .dataframe tbody tr th {\n",
       "        vertical-align: top;\n",
       "    }\n",
       "\n",
       "    .dataframe thead th {\n",
       "        text-align: right;\n",
       "    }\n",
       "</style>\n",
       "<table border=\"1\" class=\"dataframe\">\n",
       "  <thead>\n",
       "    <tr style=\"text-align: right;\">\n",
       "      <th></th>\n",
       "      <th>Regression Models</th>\n",
       "      <th>Training Predicted RMSEs</th>\n",
       "      <th>Validation Predicted RMSEs</th>\n",
       "      <th>Test Predicted RMSEs</th>\n",
       "    </tr>\n",
       "  </thead>\n",
       "  <tbody>\n",
       "    <tr>\n",
       "      <th>0</th>\n",
       "      <td>OLS</td>\n",
       "      <td>223.623384</td>\n",
       "      <td>217.974042</td>\n",
       "      <td>523.000284</td>\n",
       "    </tr>\n",
       "    <tr>\n",
       "      <th>1</th>\n",
       "      <td>Ridge</td>\n",
       "      <td>223.799967</td>\n",
       "      <td>218.341480</td>\n",
       "      <td>520.606365</td>\n",
       "    </tr>\n",
       "    <tr>\n",
       "      <th>2</th>\n",
       "      <td>Lasso</td>\n",
       "      <td>240.039053</td>\n",
       "      <td>233.723605</td>\n",
       "      <td>500.966517</td>\n",
       "    </tr>\n",
       "  </tbody>\n",
       "</table>\n",
       "</div>"
      ],
      "text/plain": [
       "  Regression Models  Training Predicted RMSEs  Validation Predicted RMSEs  \\\n",
       "0               OLS                223.623384                  217.974042   \n",
       "1             Ridge                223.799967                  218.341480   \n",
       "2             Lasso                240.039053                  233.723605   \n",
       "\n",
       "   Test Predicted RMSEs  \n",
       "0            523.000284  \n",
       "1            520.606365  \n",
       "2            500.966517  "
      ]
     },
     "execution_count": 54,
     "metadata": {},
     "output_type": "execute_result"
    }
   ],
   "source": [
    "# calculate RMSE for each set of validation predictions\n",
    "print(\"linear model rmse: \", rmse(lin_vpred, y_validate))\n",
    "print(\"Ridge rmse: \", rmse(ridge_vpred, y_validate))\n",
    "print(\"LASSO rmse: \", rmse(lasso_vpred, y_validate))\n",
    "\n",
    "rmse_data = {\"Regression Models\": ['OLS','Ridge','Lasso'],\n",
    "             \"Training Predicted RMSEs\": [rmse(lin_pred, y_train),rmse(ridge_pred, y_train),rmse(lasso_pred, y_train)],\n",
    "             \"Validation Predicted RMSEs\": [rmse(lin_vpred, y_validate),rmse(ridge_vpred, y_validate),rmse(lasso_vpred, y_validate)],\n",
    "             \"Test Predicted RMSEs\": [rmse(lin_testpred, y_validate),rmse(ridge_testpred, y_validate),rmse(lasso_testpred, y_validate)]}\n",
    "compare_rmse = pd.DataFrame(data=rmse_data)\n",
    "compare_rmse"
   ]
  },
  {
   "cell_type": "code",
   "execution_count": 55,
   "metadata": {},
   "outputs": [
    {
     "name": "stdout",
     "output_type": "stream",
     "text": [
      "Final test set rmse:  221.78350917301887\n"
     ]
    }
   ],
   "source": [
    "# make predictions for the test set using one model of your choice\n",
    "final_pred = lin_model.predict(X_test)\n",
    "# calculate the rmse for the final predictions\n",
    "print('Final test set rmse: ', rmse(final_pred, y_test))"
   ]
  },
  {
   "cell_type": "code",
   "execution_count": 56,
   "metadata": {},
   "outputs": [
    {
     "name": "stdout",
     "output_type": "stream",
     "text": [
      "Final test set rmse:  221.78350917301887\n"
     ]
    }
   ],
   "source": [
    "# make predictions for the test set using one model of your choice\n",
    "final_pred = lin_model.predict(X_test)\n",
    "# calculate the rmse for the final predictions\n",
    "print('Final test set rmse: ', rmse(final_pred, y_test))"
   ]
  },
  {
   "cell_type": "code",
   "execution_count": 57,
   "metadata": {},
   "outputs": [
    {
     "data": {
      "text/plain": [
       "<matplotlib.collections.PathCollection at 0x1401290cbb0>"
      ]
     },
     "execution_count": 57,
     "metadata": {},
     "output_type": "execute_result"
    },
    {
     "data": {
      "text/plain": [
       "Text(0.5, 1.0, 'Final Linear Model (OLS)')"
      ]
     },
     "execution_count": 57,
     "metadata": {},
     "output_type": "execute_result"
    },
    {
     "data": {
      "text/plain": [
       "Text(0.5, 0, 'actual value')"
      ]
     },
     "execution_count": 57,
     "metadata": {},
     "output_type": "execute_result"
    },
    {
     "data": {
      "text/plain": [
       "Text(0, 0.5, 'predicted value')"
      ]
     },
     "execution_count": 57,
     "metadata": {},
     "output_type": "execute_result"
    },
    {
     "data": {
      "image/png": "[encoded data removed]",
      "text/plain": [
       "<Figure size 432x288 with 1 Axes>"
      ]
     },
     "metadata": {
      "needs_background": "light"
     },
     "output_type": "display_data"
    }
   ],
   "source": [
    "plt.scatter(y_test, final_pred)\n",
    "plt.title('Final Linear Model (OLS)')\n",
    "plt.xlabel('actual value')\n",
    "plt.ylabel('predicted value')\n",
    "plt.show()"
   ]
  },
  {
   "cell_type": "markdown",
   "metadata": {},
   "source": [
    "(a) Which model(s) has the best performance on the validation set? In addition to the metrics you choose, also report the correlation (Pearson or r2) between your predicted values and the observed values.\n",
    "\n",
    "OLS still has the best performance on the validation set, unfortunately. But not by much - Ridge regression places as a close second."
   ]
  },
  {
   "cell_type": "markdown",
   "metadata": {},
   "source": [
    "(b) Why is it good practice to do a train/validation/test split, instead of just a train/test split?\n",
    "\n",
    "Validation data allows us to get an idea of how accurate the model will be without actually exposing it to our test set. We want to optimize the hyperparameters of our model as much as possible before using the test set. If we repeatedly test our model just against test data only, it will become overfitted."
   ]
  },
  {
   "cell_type": "markdown",
   "metadata": {},
   "source": [
    "(c) Why is it considered unethical, in an industry or academic publication, to run your model on the test set multiple times (changing something about your model in between)?"
   ]
  },
  {
   "cell_type": "markdown",
   "metadata": {},
   "source": [
    "(d) In general, should predictions in the validation and test sets be more or less accurate than predictions on the training set? Why?\n",
    "\n",
    "In general, the prediction RMSEs from the training sets will be lower than the prediction RMSEs from the test sets. The training models are more fit to the data, and as a result should have less variance. The test sets are not trained on, and will have more opportunities for different scenarios, and eventual variance in scores. "
   ]
  },
  {
   "cell_type": "markdown",
   "metadata": {},
   "source": [
    "3.5) Also train your best model using cross-validation."
   ]
  },
  {
   "cell_type": "code",
   "execution_count": 60,
   "metadata": {},
   "outputs": [
    {
     "data": {
      "text/plain": [
       "<matplotlib.collections.PathCollection at 0x14012a45a60>"
      ]
     },
     "execution_count": 60,
     "metadata": {},
     "output_type": "execute_result"
    },
    {
     "data": {
      "text/plain": [
       "Text(0.5, 1.0, 'Linear Regression')"
      ]
     },
     "execution_count": 60,
     "metadata": {},
     "output_type": "execute_result"
    },
    {
     "data": {
      "text/plain": [
       "Text(0.5, 0, 'actual value')"
      ]
     },
     "execution_count": 60,
     "metadata": {},
     "output_type": "execute_result"
    },
    {
     "data": {
      "text/plain": [
       "Text(0, 0.5, 'predicted value')"
      ]
     },
     "execution_count": 60,
     "metadata": {},
     "output_type": "execute_result"
    },
    {
     "data": {
      "image/png": "[encoded data removed]",
      "text/plain": [
       "<Figure size 432x288 with 1 Axes>"
      ]
     },
     "metadata": {
      "needs_background": "light"
     },
     "output_type": "display_data"
    }
   ],
   "source": [
    "lin_cross_predicted = cross_val_predict(lin_reg, X, y, cv = 3)\n",
    "# r2_score(y, lin_cross_predicted)\n",
    "\n",
    "# plot the residuals on a scatter plot\n",
    "plt.scatter(y, lin_cross_predicted)\n",
    "plt.title('Linear Regression')\n",
    "plt.xlabel('actual value')\n",
    "plt.ylabel('predicted value')\n",
    "plt.show()\n",
    "\n",
    "# print('The cross validation score for a lasso regression here is',cross_val_score(lasso_reg, X, y, cv=3, scoring='r2').mean())\n",
    "# print('Final cross-validated set rmse: ', rmse(lin_cross_predicted, y_test))"
   ]
  },
  {
   "cell_type": "markdown",
   "metadata": {},
   "source": [
    "# 4 Generalize to a new dataset"
   ]
  },
  {
   "cell_type": "markdown",
   "metadata": {},
   "source": [
    "4.1) Now let’s test the model on a brand new dataset. Download the cleaned NYPD data from bcourses, and predict neighborhood crime rates in New York City. Choose your best/preferred model. How accurate is it?"
   ]
  },
  {
   "cell_type": "code",
   "execution_count": 61,
   "metadata": {},
   "outputs": [],
   "source": [
    "# the reasoning behind the 'r' used to create a raw string can be found here: https://stackoverflow.com/questions/1347791/unicode-error-unicodeescape-codec-cant-decode-bytes-cannot-open-text-file\n",
    "df = pd.read_csv(r'C:\\\\Users\\\\kharr\\\\Documents\\\\GitHub\\\\Problem-Set-2-Legal-Studies-123\\Data\\NY Crime By Neighborhood.csv')\n",
    "# df = pd.read_csv('C:\\\\Users\\\\kharr\\\\Documents\\\\GitHub\\\\Problem-Set-2-Legal-Studies-123\\Data\\San Francisco Crime by Neighborhood and Tract.csv')"
   ]
  },
  {
   "cell_type": "code",
   "execution_count": 62,
   "metadata": {},
   "outputs": [
    {
     "data": {
      "text/html": [
       "<div>\n",
       "<style scoped>\n",
       "    .dataframe tbody tr th:only-of-type {\n",
       "        vertical-align: middle;\n",
       "    }\n",
       "\n",
       "    .dataframe tbody tr th {\n",
       "        vertical-align: top;\n",
       "    }\n",
       "\n",
       "    .dataframe thead th {\n",
       "        text-align: right;\n",
       "    }\n",
       "</style>\n",
       "<table border=\"1\" class=\"dataframe\">\n",
       "  <thead>\n",
       "    <tr style=\"text-align: right;\">\n",
       "      <th></th>\n",
       "      <th>Month_Year</th>\n",
       "      <th>number_crimes</th>\n",
       "      <th>tract_no</th>\n",
       "      <th>neighborhood</th>\n",
       "      <th>VC03</th>\n",
       "      <th>VC04</th>\n",
       "      <th>VC05</th>\n",
       "      <th>VC06</th>\n",
       "      <th>VC07</th>\n",
       "      <th>VC08</th>\n",
       "      <th>...</th>\n",
       "      <th>VC206</th>\n",
       "      <th>VC207</th>\n",
       "      <th>VC208</th>\n",
       "      <th>VC209</th>\n",
       "      <th>VC210</th>\n",
       "      <th>VC211</th>\n",
       "      <th>VC212</th>\n",
       "      <th>VC216</th>\n",
       "      <th>VC217</th>\n",
       "      <th>VC218</th>\n",
       "    </tr>\n",
       "  </thead>\n",
       "  <tbody>\n",
       "    <tr>\n",
       "      <th>0</th>\n",
       "      <td>01/1999</td>\n",
       "      <td>1</td>\n",
       "      <td>100</td>\n",
       "      <td>Rikers Island</td>\n",
       "      <td>0</td>\n",
       "      <td>0</td>\n",
       "      <td>0</td>\n",
       "      <td>0</td>\n",
       "      <td>0</td>\n",
       "      <td>0</td>\n",
       "      <td>...</td>\n",
       "      <td>0</td>\n",
       "      <td>63</td>\n",
       "      <td>0</td>\n",
       "      <td>0</td>\n",
       "      <td>5</td>\n",
       "      <td>0</td>\n",
       "      <td>283</td>\n",
       "      <td>NaN</td>\n",
       "      <td>NaN</td>\n",
       "      <td>NaN</td>\n",
       "    </tr>\n",
       "    <tr>\n",
       "      <th>1</th>\n",
       "      <td>01/2002</td>\n",
       "      <td>1</td>\n",
       "      <td>100</td>\n",
       "      <td>Rikers Island</td>\n",
       "      <td>0</td>\n",
       "      <td>0</td>\n",
       "      <td>0</td>\n",
       "      <td>0</td>\n",
       "      <td>0</td>\n",
       "      <td>0</td>\n",
       "      <td>...</td>\n",
       "      <td>0</td>\n",
       "      <td>63</td>\n",
       "      <td>0</td>\n",
       "      <td>0</td>\n",
       "      <td>5</td>\n",
       "      <td>0</td>\n",
       "      <td>283</td>\n",
       "      <td>NaN</td>\n",
       "      <td>NaN</td>\n",
       "      <td>NaN</td>\n",
       "    </tr>\n",
       "    <tr>\n",
       "      <th>2</th>\n",
       "      <td>01/2003</td>\n",
       "      <td>2</td>\n",
       "      <td>100</td>\n",
       "      <td>Rikers Island</td>\n",
       "      <td>0</td>\n",
       "      <td>0</td>\n",
       "      <td>0</td>\n",
       "      <td>0</td>\n",
       "      <td>0</td>\n",
       "      <td>0</td>\n",
       "      <td>...</td>\n",
       "      <td>0</td>\n",
       "      <td>63</td>\n",
       "      <td>0</td>\n",
       "      <td>0</td>\n",
       "      <td>5</td>\n",
       "      <td>0</td>\n",
       "      <td>283</td>\n",
       "      <td>NaN</td>\n",
       "      <td>NaN</td>\n",
       "      <td>NaN</td>\n",
       "    </tr>\n",
       "    <tr>\n",
       "      <th>3</th>\n",
       "      <td>01/2005</td>\n",
       "      <td>3</td>\n",
       "      <td>100</td>\n",
       "      <td>Rikers Island</td>\n",
       "      <td>0</td>\n",
       "      <td>0</td>\n",
       "      <td>0</td>\n",
       "      <td>0</td>\n",
       "      <td>0</td>\n",
       "      <td>0</td>\n",
       "      <td>...</td>\n",
       "      <td>0</td>\n",
       "      <td>63</td>\n",
       "      <td>0</td>\n",
       "      <td>0</td>\n",
       "      <td>5</td>\n",
       "      <td>0</td>\n",
       "      <td>283</td>\n",
       "      <td>NaN</td>\n",
       "      <td>NaN</td>\n",
       "      <td>NaN</td>\n",
       "    </tr>\n",
       "    <tr>\n",
       "      <th>4</th>\n",
       "      <td>01/2006</td>\n",
       "      <td>155</td>\n",
       "      <td>100</td>\n",
       "      <td>Rikers Island</td>\n",
       "      <td>0</td>\n",
       "      <td>0</td>\n",
       "      <td>0</td>\n",
       "      <td>0</td>\n",
       "      <td>0</td>\n",
       "      <td>0</td>\n",
       "      <td>...</td>\n",
       "      <td>0</td>\n",
       "      <td>63</td>\n",
       "      <td>0</td>\n",
       "      <td>0</td>\n",
       "      <td>5</td>\n",
       "      <td>0</td>\n",
       "      <td>283</td>\n",
       "      <td>NaN</td>\n",
       "      <td>NaN</td>\n",
       "      <td>NaN</td>\n",
       "    </tr>\n",
       "  </tbody>\n",
       "</table>\n",
       "<p>5 rows × 156 columns</p>\n",
       "</div>"
      ],
      "text/plain": [
       "  Month_Year  number_crimes  tract_no   neighborhood  VC03  VC04  VC05  VC06  \\\n",
       "0    01/1999              1       100  Rikers Island     0     0     0     0   \n",
       "1    01/2002              1       100  Rikers Island     0     0     0     0   \n",
       "2    01/2003              2       100  Rikers Island     0     0     0     0   \n",
       "3    01/2005              3       100  Rikers Island     0     0     0     0   \n",
       "4    01/2006            155       100  Rikers Island     0     0     0     0   \n",
       "\n",
       "   VC07  VC08  ...  VC206  VC207  VC208  VC209  VC210  VC211  VC212  VC216  \\\n",
       "0     0     0  ...      0     63      0      0      5      0    283    NaN   \n",
       "1     0     0  ...      0     63      0      0      5      0    283    NaN   \n",
       "2     0     0  ...      0     63      0      0      5      0    283    NaN   \n",
       "3     0     0  ...      0     63      0      0      5      0    283    NaN   \n",
       "4     0     0  ...      0     63      0      0      5      0    283    NaN   \n",
       "\n",
       "   VC217  VC218  \n",
       "0    NaN    NaN  \n",
       "1    NaN    NaN  \n",
       "2    NaN    NaN  \n",
       "3    NaN    NaN  \n",
       "4    NaN    NaN  \n",
       "\n",
       "[5 rows x 156 columns]"
      ]
     },
     "execution_count": 62,
     "metadata": {},
     "output_type": "execute_result"
    },
    {
     "name": "stdout",
     "output_type": "stream",
     "text": [
      "df has 375423 rows\n"
     ]
    }
   ],
   "source": [
    "df.head()\n",
    "print('df has',df.index.size,'rows')\n",
    "# df.columns.values"
   ]
  },
  {
   "cell_type": "code",
   "execution_count": 63,
   "metadata": {},
   "outputs": [
    {
     "data": {
      "text/plain": [
       "368253"
      ]
     },
     "execution_count": 63,
     "metadata": {},
     "output_type": "execute_result"
    }
   ],
   "source": [
    "df = df.drop_duplicates()\n",
    "df = df.fillna(0)\n",
    "df.index.size"
   ]
  },
  {
   "cell_type": "code",
   "execution_count": 64,
   "metadata": {},
   "outputs": [
    {
     "data": {
      "text/plain": [
       "False"
      ]
     },
     "execution_count": 64,
     "metadata": {},
     "output_type": "execute_result"
    }
   ],
   "source": [
    "df.isnull().values.any()"
   ]
  },
  {
   "cell_type": "code",
   "execution_count": 65,
   "metadata": {},
   "outputs": [
    {
     "data": {
      "text/html": [
       "<div>\n",
       "<style scoped>\n",
       "    .dataframe tbody tr th:only-of-type {\n",
       "        vertical-align: middle;\n",
       "    }\n",
       "\n",
       "    .dataframe tbody tr th {\n",
       "        vertical-align: top;\n",
       "    }\n",
       "\n",
       "    .dataframe thead th {\n",
       "        text-align: right;\n",
       "    }\n",
       "</style>\n",
       "<table border=\"1\" class=\"dataframe\">\n",
       "  <thead>\n",
       "    <tr style=\"text-align: right;\">\n",
       "      <th></th>\n",
       "      <th>Month_Year</th>\n",
       "      <th>number_crimes</th>\n",
       "      <th>tract_no</th>\n",
       "      <th>neighborhood</th>\n",
       "      <th>VC03</th>\n",
       "      <th>VC04</th>\n",
       "      <th>VC05</th>\n",
       "      <th>VC06</th>\n",
       "      <th>VC07</th>\n",
       "      <th>VC08</th>\n",
       "      <th>...</th>\n",
       "      <th>VC206</th>\n",
       "      <th>VC207</th>\n",
       "      <th>VC208</th>\n",
       "      <th>VC209</th>\n",
       "      <th>VC210</th>\n",
       "      <th>VC211</th>\n",
       "      <th>VC212</th>\n",
       "      <th>VC216</th>\n",
       "      <th>VC217</th>\n",
       "      <th>VC218</th>\n",
       "    </tr>\n",
       "  </thead>\n",
       "  <tbody>\n",
       "    <tr>\n",
       "      <th>0</th>\n",
       "      <td>1999-01-01</td>\n",
       "      <td>1</td>\n",
       "      <td>100</td>\n",
       "      <td>Rikers Island</td>\n",
       "      <td>0</td>\n",
       "      <td>0</td>\n",
       "      <td>0</td>\n",
       "      <td>0</td>\n",
       "      <td>0</td>\n",
       "      <td>0</td>\n",
       "      <td>...</td>\n",
       "      <td>0</td>\n",
       "      <td>63</td>\n",
       "      <td>0</td>\n",
       "      <td>0</td>\n",
       "      <td>5</td>\n",
       "      <td>0</td>\n",
       "      <td>283</td>\n",
       "      <td>0.0</td>\n",
       "      <td>0.0</td>\n",
       "      <td>0.0</td>\n",
       "    </tr>\n",
       "    <tr>\n",
       "      <th>1</th>\n",
       "      <td>2002-01-01</td>\n",
       "      <td>1</td>\n",
       "      <td>100</td>\n",
       "      <td>Rikers Island</td>\n",
       "      <td>0</td>\n",
       "      <td>0</td>\n",
       "      <td>0</td>\n",
       "      <td>0</td>\n",
       "      <td>0</td>\n",
       "      <td>0</td>\n",
       "      <td>...</td>\n",
       "      <td>0</td>\n",
       "      <td>63</td>\n",
       "      <td>0</td>\n",
       "      <td>0</td>\n",
       "      <td>5</td>\n",
       "      <td>0</td>\n",
       "      <td>283</td>\n",
       "      <td>0.0</td>\n",
       "      <td>0.0</td>\n",
       "      <td>0.0</td>\n",
       "    </tr>\n",
       "    <tr>\n",
       "      <th>2</th>\n",
       "      <td>2003-01-01</td>\n",
       "      <td>2</td>\n",
       "      <td>100</td>\n",
       "      <td>Rikers Island</td>\n",
       "      <td>0</td>\n",
       "      <td>0</td>\n",
       "      <td>0</td>\n",
       "      <td>0</td>\n",
       "      <td>0</td>\n",
       "      <td>0</td>\n",
       "      <td>...</td>\n",
       "      <td>0</td>\n",
       "      <td>63</td>\n",
       "      <td>0</td>\n",
       "      <td>0</td>\n",
       "      <td>5</td>\n",
       "      <td>0</td>\n",
       "      <td>283</td>\n",
       "      <td>0.0</td>\n",
       "      <td>0.0</td>\n",
       "      <td>0.0</td>\n",
       "    </tr>\n",
       "    <tr>\n",
       "      <th>3</th>\n",
       "      <td>2005-01-01</td>\n",
       "      <td>3</td>\n",
       "      <td>100</td>\n",
       "      <td>Rikers Island</td>\n",
       "      <td>0</td>\n",
       "      <td>0</td>\n",
       "      <td>0</td>\n",
       "      <td>0</td>\n",
       "      <td>0</td>\n",
       "      <td>0</td>\n",
       "      <td>...</td>\n",
       "      <td>0</td>\n",
       "      <td>63</td>\n",
       "      <td>0</td>\n",
       "      <td>0</td>\n",
       "      <td>5</td>\n",
       "      <td>0</td>\n",
       "      <td>283</td>\n",
       "      <td>0.0</td>\n",
       "      <td>0.0</td>\n",
       "      <td>0.0</td>\n",
       "    </tr>\n",
       "    <tr>\n",
       "      <th>4</th>\n",
       "      <td>2006-01-01</td>\n",
       "      <td>155</td>\n",
       "      <td>100</td>\n",
       "      <td>Rikers Island</td>\n",
       "      <td>0</td>\n",
       "      <td>0</td>\n",
       "      <td>0</td>\n",
       "      <td>0</td>\n",
       "      <td>0</td>\n",
       "      <td>0</td>\n",
       "      <td>...</td>\n",
       "      <td>0</td>\n",
       "      <td>63</td>\n",
       "      <td>0</td>\n",
       "      <td>0</td>\n",
       "      <td>5</td>\n",
       "      <td>0</td>\n",
       "      <td>283</td>\n",
       "      <td>0.0</td>\n",
       "      <td>0.0</td>\n",
       "      <td>0.0</td>\n",
       "    </tr>\n",
       "  </tbody>\n",
       "</table>\n",
       "<p>5 rows × 156 columns</p>\n",
       "</div>"
      ],
      "text/plain": [
       "  Month_Year  number_crimes  tract_no   neighborhood  VC03  VC04  VC05  VC06  \\\n",
       "0 1999-01-01              1       100  Rikers Island     0     0     0     0   \n",
       "1 2002-01-01              1       100  Rikers Island     0     0     0     0   \n",
       "2 2003-01-01              2       100  Rikers Island     0     0     0     0   \n",
       "3 2005-01-01              3       100  Rikers Island     0     0     0     0   \n",
       "4 2006-01-01            155       100  Rikers Island     0     0     0     0   \n",
       "\n",
       "   VC07  VC08  ...  VC206  VC207  VC208  VC209  VC210  VC211  VC212  VC216  \\\n",
       "0     0     0  ...      0     63      0      0      5      0    283    0.0   \n",
       "1     0     0  ...      0     63      0      0      5      0    283    0.0   \n",
       "2     0     0  ...      0     63      0      0      5      0    283    0.0   \n",
       "3     0     0  ...      0     63      0      0      5      0    283    0.0   \n",
       "4     0     0  ...      0     63      0      0      5      0    283    0.0   \n",
       "\n",
       "   VC217  VC218  \n",
       "0    0.0    0.0  \n",
       "1    0.0    0.0  \n",
       "2    0.0    0.0  \n",
       "3    0.0    0.0  \n",
       "4    0.0    0.0  \n",
       "\n",
       "[5 rows x 156 columns]"
      ]
     },
     "execution_count": 65,
     "metadata": {},
     "output_type": "execute_result"
    }
   ],
   "source": [
    "df[\"Month_Year\"] = pd.to_datetime(df[\"Month_Year\"], infer_datetime_format=True, errors = 'coerce')\n",
    "df.head()"
   ]
  },
  {
   "cell_type": "code",
   "execution_count": 66,
   "metadata": {},
   "outputs": [
    {
     "data": {
      "text/html": [
       "<div>\n",
       "<style scoped>\n",
       "    .dataframe tbody tr th:only-of-type {\n",
       "        vertical-align: middle;\n",
       "    }\n",
       "\n",
       "    .dataframe tbody tr th {\n",
       "        vertical-align: top;\n",
       "    }\n",
       "\n",
       "    .dataframe thead th {\n",
       "        text-align: right;\n",
       "    }\n",
       "</style>\n",
       "<table border=\"1\" class=\"dataframe\">\n",
       "  <thead>\n",
       "    <tr style=\"text-align: right;\">\n",
       "      <th></th>\n",
       "      <th>neighborhood</th>\n",
       "      <th>Month_Year</th>\n",
       "      <th>yyyy</th>\n",
       "      <th>mm</th>\n",
       "      <th>number_crimes</th>\n",
       "      <th>tract_no</th>\n",
       "      <th>VC03</th>\n",
       "      <th>VC04</th>\n",
       "      <th>VC05</th>\n",
       "      <th>VC06</th>\n",
       "      <th>...</th>\n",
       "      <th>VC206</th>\n",
       "      <th>VC207</th>\n",
       "      <th>VC208</th>\n",
       "      <th>VC209</th>\n",
       "      <th>VC210</th>\n",
       "      <th>VC211</th>\n",
       "      <th>VC212</th>\n",
       "      <th>VC216</th>\n",
       "      <th>VC217</th>\n",
       "      <th>VC218</th>\n",
       "    </tr>\n",
       "  </thead>\n",
       "  <tbody>\n",
       "    <tr>\n",
       "      <th>0</th>\n",
       "      <td>Rikers Island</td>\n",
       "      <td>1999-01-01</td>\n",
       "      <td>2003.0</td>\n",
       "      <td>1.0</td>\n",
       "      <td>1</td>\n",
       "      <td>100</td>\n",
       "      <td>0</td>\n",
       "      <td>0</td>\n",
       "      <td>0</td>\n",
       "      <td>0</td>\n",
       "      <td>...</td>\n",
       "      <td>0</td>\n",
       "      <td>63</td>\n",
       "      <td>0</td>\n",
       "      <td>0</td>\n",
       "      <td>5</td>\n",
       "      <td>0</td>\n",
       "      <td>283</td>\n",
       "      <td>0.0</td>\n",
       "      <td>0.0</td>\n",
       "      <td>0.0</td>\n",
       "    </tr>\n",
       "    <tr>\n",
       "      <th>1</th>\n",
       "      <td>Rikers Island</td>\n",
       "      <td>2002-01-01</td>\n",
       "      <td>2004.0</td>\n",
       "      <td>1.0</td>\n",
       "      <td>1</td>\n",
       "      <td>100</td>\n",
       "      <td>0</td>\n",
       "      <td>0</td>\n",
       "      <td>0</td>\n",
       "      <td>0</td>\n",
       "      <td>...</td>\n",
       "      <td>0</td>\n",
       "      <td>63</td>\n",
       "      <td>0</td>\n",
       "      <td>0</td>\n",
       "      <td>5</td>\n",
       "      <td>0</td>\n",
       "      <td>283</td>\n",
       "      <td>0.0</td>\n",
       "      <td>0.0</td>\n",
       "      <td>0.0</td>\n",
       "    </tr>\n",
       "    <tr>\n",
       "      <th>2</th>\n",
       "      <td>Rikers Island</td>\n",
       "      <td>2003-01-01</td>\n",
       "      <td>2005.0</td>\n",
       "      <td>1.0</td>\n",
       "      <td>2</td>\n",
       "      <td>100</td>\n",
       "      <td>0</td>\n",
       "      <td>0</td>\n",
       "      <td>0</td>\n",
       "      <td>0</td>\n",
       "      <td>...</td>\n",
       "      <td>0</td>\n",
       "      <td>63</td>\n",
       "      <td>0</td>\n",
       "      <td>0</td>\n",
       "      <td>5</td>\n",
       "      <td>0</td>\n",
       "      <td>283</td>\n",
       "      <td>0.0</td>\n",
       "      <td>0.0</td>\n",
       "      <td>0.0</td>\n",
       "    </tr>\n",
       "    <tr>\n",
       "      <th>3</th>\n",
       "      <td>Rikers Island</td>\n",
       "      <td>2005-01-01</td>\n",
       "      <td>2006.0</td>\n",
       "      <td>1.0</td>\n",
       "      <td>3</td>\n",
       "      <td>100</td>\n",
       "      <td>0</td>\n",
       "      <td>0</td>\n",
       "      <td>0</td>\n",
       "      <td>0</td>\n",
       "      <td>...</td>\n",
       "      <td>0</td>\n",
       "      <td>63</td>\n",
       "      <td>0</td>\n",
       "      <td>0</td>\n",
       "      <td>5</td>\n",
       "      <td>0</td>\n",
       "      <td>283</td>\n",
       "      <td>0.0</td>\n",
       "      <td>0.0</td>\n",
       "      <td>0.0</td>\n",
       "    </tr>\n",
       "    <tr>\n",
       "      <th>4</th>\n",
       "      <td>Rikers Island</td>\n",
       "      <td>2006-01-01</td>\n",
       "      <td>2007.0</td>\n",
       "      <td>1.0</td>\n",
       "      <td>155</td>\n",
       "      <td>100</td>\n",
       "      <td>0</td>\n",
       "      <td>0</td>\n",
       "      <td>0</td>\n",
       "      <td>0</td>\n",
       "      <td>...</td>\n",
       "      <td>0</td>\n",
       "      <td>63</td>\n",
       "      <td>0</td>\n",
       "      <td>0</td>\n",
       "      <td>5</td>\n",
       "      <td>0</td>\n",
       "      <td>283</td>\n",
       "      <td>0.0</td>\n",
       "      <td>0.0</td>\n",
       "      <td>0.0</td>\n",
       "    </tr>\n",
       "  </tbody>\n",
       "</table>\n",
       "<p>5 rows × 158 columns</p>\n",
       "</div>"
      ],
      "text/plain": [
       "    neighborhood Month_Year    yyyy   mm  number_crimes  tract_no  VC03  VC04  \\\n",
       "0  Rikers Island 1999-01-01  2003.0  1.0              1       100     0     0   \n",
       "1  Rikers Island 2002-01-01  2004.0  1.0              1       100     0     0   \n",
       "2  Rikers Island 2003-01-01  2005.0  1.0              2       100     0     0   \n",
       "3  Rikers Island 2005-01-01  2006.0  1.0              3       100     0     0   \n",
       "4  Rikers Island 2006-01-01  2007.0  1.0            155       100     0     0   \n",
       "\n",
       "   VC05  VC06  ...  VC206  VC207  VC208  VC209  VC210  VC211  VC212  VC216  \\\n",
       "0     0     0  ...      0     63      0      0      5      0    283    0.0   \n",
       "1     0     0  ...      0     63      0      0      5      0    283    0.0   \n",
       "2     0     0  ...      0     63      0      0      5      0    283    0.0   \n",
       "3     0     0  ...      0     63      0      0      5      0    283    0.0   \n",
       "4     0     0  ...      0     63      0      0      5      0    283    0.0   \n",
       "\n",
       "   VC217  VC218  \n",
       "0    0.0    0.0  \n",
       "1    0.0    0.0  \n",
       "2    0.0    0.0  \n",
       "3    0.0    0.0  \n",
       "4    0.0    0.0  \n",
       "\n",
       "[5 rows x 158 columns]"
      ]
     },
     "execution_count": 66,
     "metadata": {},
     "output_type": "execute_result"
    }
   ],
   "source": [
    "df['yyyy'] = (pd.to_datetime(df['Month_Year']).dt.year)\n",
    "df['mm'] = pd.to_datetime(df['Month_Year']).dt.month\n",
    "\n",
    "move_yyyy = df.pop(\"yyyy\")\n",
    "df.insert(2, \"yyyy\", move_1 )\n",
    "\n",
    "move_mm = df.pop(\"mm\")\n",
    "df.insert(3, \"mm\", move_2 )\n",
    "\n",
    "move_neighborhood = df.pop(\"neighborhood\")\n",
    "df.insert(0, \"neighborhood\", move_neighborhood )\n",
    "\n",
    "move_crimes = df.pop(\"number_crimes\")\n",
    "df.insert(4, \"number_crimes\", move_crimes )\n",
    "\n",
    "df.head()"
   ]
  },
  {
   "cell_type": "code",
   "execution_count": 67,
   "metadata": {},
   "outputs": [],
   "source": [
    "df = df.fillna(0)"
   ]
  },
  {
   "cell_type": "code",
   "execution_count": 68,
   "metadata": {},
   "outputs": [],
   "source": [
    "df['neighborhood'] = pd.factorize(df.neighborhood)[0] + 1\n",
    "X = df\n",
    "\n",
    "X = X.drop(['number_crimes'], axis=1)\n",
    "X = X.drop(['Month_Year'], axis=1) #now that we have month and year as their own columns, this is okay. \n",
    "\n",
    "y = df['number_crimes']"
   ]
  },
  {
   "cell_type": "code",
   "execution_count": 69,
   "metadata": {},
   "outputs": [
    {
     "data": {
      "text/html": [
       "<div>\n",
       "<style scoped>\n",
       "    .dataframe tbody tr th:only-of-type {\n",
       "        vertical-align: middle;\n",
       "    }\n",
       "\n",
       "    .dataframe tbody tr th {\n",
       "        vertical-align: top;\n",
       "    }\n",
       "\n",
       "    .dataframe thead th {\n",
       "        text-align: right;\n",
       "    }\n",
       "</style>\n",
       "<table border=\"1\" class=\"dataframe\">\n",
       "  <thead>\n",
       "    <tr style=\"text-align: right;\">\n",
       "      <th></th>\n",
       "      <th>neighborhood</th>\n",
       "      <th>yyyy</th>\n",
       "      <th>mm</th>\n",
       "      <th>tract_no</th>\n",
       "      <th>VC03</th>\n",
       "      <th>VC04</th>\n",
       "      <th>VC05</th>\n",
       "      <th>VC06</th>\n",
       "      <th>VC07</th>\n",
       "      <th>VC08</th>\n",
       "      <th>...</th>\n",
       "      <th>VC206</th>\n",
       "      <th>VC207</th>\n",
       "      <th>VC208</th>\n",
       "      <th>VC209</th>\n",
       "      <th>VC210</th>\n",
       "      <th>VC211</th>\n",
       "      <th>VC212</th>\n",
       "      <th>VC216</th>\n",
       "      <th>VC217</th>\n",
       "      <th>VC218</th>\n",
       "    </tr>\n",
       "  </thead>\n",
       "  <tbody>\n",
       "    <tr>\n",
       "      <th>0</th>\n",
       "      <td>-1.342556</td>\n",
       "      <td>3.119235</td>\n",
       "      <td>0.186308</td>\n",
       "      <td>-1.083549</td>\n",
       "      <td>-1.62004</td>\n",
       "      <td>-1.732328</td>\n",
       "      <td>-1.589753</td>\n",
       "      <td>-1.542002</td>\n",
       "      <td>-1.472718</td>\n",
       "      <td>-1.198355</td>\n",
       "      <td>...</td>\n",
       "      <td>-0.265983</td>\n",
       "      <td>-0.263066</td>\n",
       "      <td>-0.329096</td>\n",
       "      <td>-0.273899</td>\n",
       "      <td>-0.284605</td>\n",
       "      <td>-0.305421</td>\n",
       "      <td>-0.044095</td>\n",
       "      <td>0.0</td>\n",
       "      <td>0.0</td>\n",
       "      <td>0.0</td>\n",
       "    </tr>\n",
       "    <tr>\n",
       "      <th>1</th>\n",
       "      <td>-1.342556</td>\n",
       "      <td>3.120951</td>\n",
       "      <td>0.186308</td>\n",
       "      <td>-1.083549</td>\n",
       "      <td>-1.62004</td>\n",
       "      <td>-1.732328</td>\n",
       "      <td>-1.589753</td>\n",
       "      <td>-1.542002</td>\n",
       "      <td>-1.472718</td>\n",
       "      <td>-1.198355</td>\n",
       "      <td>...</td>\n",
       "      <td>-0.265983</td>\n",
       "      <td>-0.263066</td>\n",
       "      <td>-0.329096</td>\n",
       "      <td>-0.273899</td>\n",
       "      <td>-0.284605</td>\n",
       "      <td>-0.305421</td>\n",
       "      <td>-0.044095</td>\n",
       "      <td>0.0</td>\n",
       "      <td>0.0</td>\n",
       "      <td>0.0</td>\n",
       "    </tr>\n",
       "  </tbody>\n",
       "</table>\n",
       "<p>2 rows × 156 columns</p>\n",
       "</div>"
      ],
      "text/plain": [
       "   neighborhood      yyyy        mm  tract_no     VC03      VC04      VC05  \\\n",
       "0     -1.342556  3.119235  0.186308 -1.083549 -1.62004 -1.732328 -1.589753   \n",
       "1     -1.342556  3.120951  0.186308 -1.083549 -1.62004 -1.732328 -1.589753   \n",
       "\n",
       "       VC06      VC07      VC08  ...     VC206     VC207     VC208     VC209  \\\n",
       "0 -1.542002 -1.472718 -1.198355  ... -0.265983 -0.263066 -0.329096 -0.273899   \n",
       "1 -1.542002 -1.472718 -1.198355  ... -0.265983 -0.263066 -0.329096 -0.273899   \n",
       "\n",
       "      VC210     VC211     VC212  VC216  VC217  VC218  \n",
       "0 -0.284605 -0.305421 -0.044095    0.0    0.0    0.0  \n",
       "1 -0.284605 -0.305421 -0.044095    0.0    0.0    0.0  \n",
       "\n",
       "[2 rows x 156 columns]"
      ]
     },
     "execution_count": 69,
     "metadata": {},
     "output_type": "execute_result"
    }
   ],
   "source": [
    "scaler = StandardScaler()\n",
    "X = pd.DataFrame(scaler.fit_transform(X.values), columns=X.columns, index=X.index)\n",
    "X.head(2)\n",
    "\n",
    "y = df['number_crimes']"
   ]
  },
  {
   "cell_type": "code",
   "execution_count": 70,
   "metadata": {},
   "outputs": [],
   "source": [
    "X_train, X_test, y_train, y_test = train_test_split(X, y,\n",
    "                                                    train_size=0.80, test_size=0.20)\n",
    "\n",
    "\n",
    "X_train, X_validate, y_train, y_validate = train_test_split(X_train, y_train,\n",
    "                                                    train_size=0.75, test_size=0.25)"
   ]
  },
  {
   "cell_type": "code",
   "execution_count": 71,
   "metadata": {},
   "outputs": [],
   "source": [
    "def rmse(pred, actual):\n",
    "    return np.sqrt(np.mean((pred - actual) ** 2))"
   ]
  },
  {
   "cell_type": "code",
   "execution_count": 72,
   "metadata": {},
   "outputs": [
    {
     "data": {
      "text/plain": [
       "<matplotlib.collections.PathCollection at 0x14026ff7940>"
      ]
     },
     "execution_count": 72,
     "metadata": {},
     "output_type": "execute_result"
    },
    {
     "data": {
      "text/plain": [
       "Text(0.5, 1.0, 'Linear Model (OLS)')"
      ]
     },
     "execution_count": 72,
     "metadata": {},
     "output_type": "execute_result"
    },
    {
     "data": {
      "text/plain": [
       "Text(0.5, 0, 'actual value')"
      ]
     },
     "execution_count": 72,
     "metadata": {},
     "output_type": "execute_result"
    },
    {
     "data": {
      "text/plain": [
       "Text(0, 0.5, 'predicted value')"
      ]
     },
     "execution_count": 72,
     "metadata": {},
     "output_type": "execute_result"
    },
    {
     "data": {
      "image/png": "[encoded data removed]",
      "text/plain": [
       "<Figure size 432x288 with 1 Axes>"
      ]
     },
     "metadata": {
      "needs_background": "light"
     },
     "output_type": "display_data"
    },
    {
     "name": "stdout",
     "output_type": "stream",
     "text": [
      "the rmse for an OLS Regression here is 196.2908098276764\n"
     ]
    }
   ],
   "source": [
    "lin_reg = LinearRegression()\n",
    "lin_model = lin_reg.fit(X_train, y_train)\n",
    "\n",
    "lin_pred = lin_model.predict(X_train)\n",
    "\n",
    "# plot the residuals on a scatter plot\n",
    "plt.scatter(y_train, lin_pred)\n",
    "plt.title('Linear Model (OLS)')\n",
    "plt.xlabel('actual value')\n",
    "plt.ylabel('predicted value')\n",
    "plt.show()\n",
    "\n",
    "print('the rmse for an OLS Regression here is', rmse(lin_pred, y_train))"
   ]
  },
  {
   "cell_type": "markdown",
   "metadata": {},
   "source": [
    "4.2) In general, what are the potential challenges with extrapolating from data trained on a San Francisco dataset to a New York City dataset?"
   ]
  },
  {
   "cell_type": "markdown",
   "metadata": {},
   "source": [
    "There are a few potential challenges, the first being that the shared features of each dataset can vary widely. For example, the population density (not to mention population size) in NYC is very different from that in SF.I would also imagine that as a result, total household per tract and all extended features would also be very different. Education by neighborhood would be very difficult to translate given that NYC and SF are structured differently, and arguably anything regarding ethnicity or language spoken would also be difficult given just how diverse NYC is. \n",
    "\n",
    "Additionally, a model that's been tuned based on specific SF data is going to be difficult to extrapolate to any city, not just San Francisco. While it hasn't necessarily been overfitted, it has been trained, and for completely new data like a different city, it will need new training and new parameters to stay accurate. "
   ]
  },
  {
   "cell_type": "markdown",
   "metadata": {},
   "source": [
    "# Bias and Fairness in Machine Learning"
   ]
  },
  {
   "cell_type": "markdown",
   "metadata": {},
   "source": [
    "5.1) Install the “Aequitas” package. Instructions are here (https://github.com/dssg/aequitas) and info about Aequitas can be found here (http://aequitas.dssg.io/).\n",
    "\n",
    "Aequitas was developed by the Center for Data Science and Public Policy at the University of Chicago. It is a “bias and fairness audit toolkit” that aims to help policymakers understand the\n",
    "ethical implications of their algorithmic decisions."
   ]
  },
  {
   "cell_type": "code",
   "execution_count": 73,
   "metadata": {
    "collapsed": true
   },
   "outputs": [
    {
     "name": "stdout",
     "output_type": "stream",
     "text": [
      "Collecting aequitasNote: you may need to restart the kernel to use updated packages.\n",
      "  Downloading aequitas-0.42.0-py3-none-any.whl (2.2 MB)\n",
      "Collecting ohio>=0.2.0\n",
      "  Downloading ohio-0.5.0-py3-none-any.whl (26 kB)\n",
      "Requirement already satisfied: pandas>=0.24.1 in c:\\users\\kharr\\anaconda3\\envs\\legal-studies\\lib\\site-packages (from aequitas) (1.3.5)\n",
      "Collecting xhtml2pdf==0.2.2\n",
      "  Downloading xhtml2pdf-0.2.2.tar.gz (97 kB)\n",
      "Collecting altair==4.1.0\n",
      "  Downloading altair-4.1.0-py3-none-any.whl (727 kB)\n",
      "Requirement already satisfied: seaborn>=0.9.0 in c:\\users\\kharr\\anaconda3\\envs\\legal-studies\\lib\\site-packages (from aequitas) (0.11.2)\n",
      "Requirement already satisfied: pyyaml>=5.1 in c:\\users\\kharr\\anaconda3\\envs\\legal-studies\\lib\\site-packages (from aequitas) (6.0)\n",
      "Requirement already satisfied: matplotlib>=3.0.3 in c:\\users\\kharr\\anaconda3\\envs\\legal-studies\\lib\\site-packages (from aequitas) (3.5.0)\n",
      "Collecting markdown2==2.3.5\n",
      "  Downloading markdown2-2.3.5.zip (161 kB)\n",
      "Requirement already satisfied: SQLAlchemy>=1.1.1 in c:\\users\\kharr\\anaconda3\\envs\\legal-studies\\lib\\site-packages (from aequitas) (1.4.27)\n",
      "Collecting millify==0.1.1\n",
      "  Downloading millify-0.1.1.tar.gz (1.2 kB)\n",
      "Collecting Flask-Bootstrap==3.3.7.1\n",
      "  Downloading Flask-Bootstrap-3.3.7.1.tar.gz (456 kB)\n",
      "Collecting Flask==0.12.2\n",
      "  Downloading Flask-0.12.2-py2.py3-none-any.whl (83 kB)\n",
      "Collecting tabulate==0.8.2\n",
      "  Downloading tabulate-0.8.2.tar.gz (45 kB)\n",
      "Requirement already satisfied: jinja2 in c:\\users\\kharr\\anaconda3\\envs\\legal-studies\\lib\\site-packages (from altair==4.1.0->aequitas) (2.11.3)\n",
      "Requirement already satisfied: jsonschema in c:\\users\\kharr\\anaconda3\\envs\\legal-studies\\lib\\site-packages (from altair==4.1.0->aequitas) (3.2.0)\n",
      "Requirement already satisfied: toolz in c:\\users\\kharr\\anaconda3\\envs\\legal-studies\\lib\\site-packages (from altair==4.1.0->aequitas) (0.11.2)\n",
      "Requirement already satisfied: entrypoints in c:\\users\\kharr\\anaconda3\\envs\\legal-studies\\lib\\site-packages (from altair==4.1.0->aequitas) (0.3)\n",
      "Requirement already satisfied: numpy in c:\\users\\kharr\\anaconda3\\envs\\legal-studies\\lib\\site-packages (from altair==4.1.0->aequitas) (1.20.3)\n",
      "Requirement already satisfied: click>=2.0 in c:\\users\\kharr\\anaconda3\\envs\\legal-studies\\lib\\site-packages (from Flask==0.12.2->aequitas) (8.0.3)\n",
      "Requirement already satisfied: itsdangerous>=0.21 in c:\\users\\kharr\\anaconda3\\envs\\legal-studies\\lib\\site-packages (from Flask==0.12.2->aequitas) (2.0.1)\n",
      "Requirement already satisfied: Werkzeug>=0.7 in c:\\users\\kharr\\anaconda3\\envs\\legal-studies\\lib\\site-packages (from Flask==0.12.2->aequitas) (2.0.2)\n",
      "Collecting dominate\n",
      "  Downloading dominate-2.6.0-py2.py3-none-any.whl (29 kB)\n",
      "Collecting visitor\n",
      "  Downloading visitor-0.1.3.tar.gz (3.3 kB)\n",
      "Requirement already satisfied: html5lib>=1.0 in c:\\users\\kharr\\anaconda3\\envs\\legal-studies\\lib\\site-packages (from xhtml2pdf==0.2.2->aequitas) (1.1)\n",
      "Collecting httplib2\n",
      "  Downloading httplib2-0.20.4-py3-none-any.whl (96 kB)\n",
      "Collecting pyPdf2\n",
      "  Downloading PyPDF2-1.27.4-py3-none-any.whl (64 kB)\n",
      "Requirement already satisfied: Pillow in c:\\users\\kharr\\anaconda3\\envs\\legal-studies\\lib\\site-packages (from xhtml2pdf==0.2.2->aequitas) (8.4.0)\n",
      "Collecting reportlab>=3.0\n",
      "  Downloading reportlab-3.6.9-cp39-cp39-win_amd64.whl (2.3 MB)\n",
      "Requirement already satisfied: six in c:\\users\\kharr\\anaconda3\\envs\\legal-studies\\lib\\site-packages (from xhtml2pdf==0.2.2->aequitas) (1.16.0)\n",
      "Requirement already satisfied: colorama in c:\\users\\kharr\\anaconda3\\envs\\legal-studies\\lib\\site-packages (from click>=2.0->Flask==0.12.2->aequitas) (0.4.4)\n",
      "Requirement already satisfied: webencodings in c:\\users\\kharr\\anaconda3\\envs\\legal-studies\\lib\\site-packages (from html5lib>=1.0->xhtml2pdf==0.2.2->aequitas) (0.5.1)\n",
      "Requirement already satisfied: MarkupSafe>=0.23 in c:\\users\\kharr\\anaconda3\\envs\\legal-studies\\lib\\site-packages (from jinja2->altair==4.1.0->aequitas) (1.1.1)\n",
      "Requirement already satisfied: python-dateutil>=2.7 in c:\\users\\kharr\\anaconda3\\envs\\legal-studies\\lib\\site-packages (from matplotlib>=3.0.3->aequitas) (2.8.2)\n",
      "Requirement already satisfied: fonttools>=4.22.0 in c:\\users\\kharr\\anaconda3\\envs\\legal-studies\\lib\\site-packages (from matplotlib>=3.0.3->aequitas) (4.25.0)\n",
      "Requirement already satisfied: packaging>=20.0 in c:\\users\\kharr\\anaconda3\\envs\\legal-studies\\lib\\site-packages (from matplotlib>=3.0.3->aequitas) (21.3)\n",
      "Requirement already satisfied: cycler>=0.10 in c:\\users\\kharr\\anaconda3\\envs\\legal-studies\\lib\\site-packages (from matplotlib>=3.0.3->aequitas) (0.11.0)\n",
      "Requirement already satisfied: pyparsing>=2.2.1 in c:\\users\\kharr\\anaconda3\\envs\\legal-studies\\lib\\site-packages (from matplotlib>=3.0.3->aequitas) (3.0.4)\n",
      "Requirement already satisfied: kiwisolver>=1.0.1 in c:\\users\\kharr\\anaconda3\\envs\\legal-studies\\lib\\site-packages (from matplotlib>=3.0.3->aequitas) (1.3.1)\n",
      "Requirement already satisfied: pytz>=2017.3 in c:\\users\\kharr\\anaconda3\\envs\\legal-studies\\lib\\site-packages (from pandas>=0.24.1->aequitas) (2021.3)\n",
      "Requirement already satisfied: scipy>=1.0 in c:\\users\\kharr\\anaconda3\\envs\\legal-studies\\lib\\site-packages (from seaborn>=0.9.0->aequitas) (1.7.3)\n",
      "Requirement already satisfied: greenlet!=0.4.17 in c:\\users\\kharr\\anaconda3\\envs\\legal-studies\\lib\\site-packages (from SQLAlchemy>=1.1.1->aequitas) (1.1.1)\n",
      "Requirement already satisfied: pyrsistent>=0.14.0 in c:\\users\\kharr\\anaconda3\\envs\\legal-studies\\lib\\site-packages (from jsonschema->altair==4.1.0->aequitas) (0.18.0)\n",
      "Requirement already satisfied: setuptools in c:\\users\\kharr\\anaconda3\\envs\\legal-studies\\lib\\site-packages (from jsonschema->altair==4.1.0->aequitas) (58.0.4)\n",
      "Requirement already satisfied: attrs>=17.4.0 in c:\\users\\kharr\\anaconda3\\envs\\legal-studies\\lib\\site-packages (from jsonschema->altair==4.1.0->aequitas) (21.4.0)\n",
      "Building wheels for collected packages: Flask-Bootstrap, markdown2, millify, tabulate, xhtml2pdf, visitor\n",
      "  Building wheel for Flask-Bootstrap (setup.py): started\n",
      "  Building wheel for Flask-Bootstrap (setup.py): finished with status 'done'\n",
      "  Created wheel for Flask-Bootstrap: filename=Flask_Bootstrap-3.3.7.1-py3-none-any.whl size=460123 sha256=49d62bf0e27be57d69f7b7eea1069b9cdbbbd5d13076e06f8542dc0582ba4edd\n",
      "  Stored in directory: c:\\users\\kharr\\appdata\\local\\pip\\cache\\wheels\\bb\\41\\c0\\e09286bce2bca8d80bcaeccf519aa73b9747278e78ca83ce3f\n",
      "  Building wheel for markdown2 (setup.py): started\n",
      "  Building wheel for markdown2 (setup.py): finished with status 'done'\n",
      "  Created wheel for markdown2: filename=markdown2-2.3.5-py3-none-any.whl size=62845 sha256=08c00bd06a1359196244a1f335687c6c26d36cd32a65351c48eb24b5feff9601\n",
      "  Stored in directory: c:\\users\\kharr\\appdata\\local\\pip\\cache\\wheels\\2e\\ea\\b4\\0217163e1c62e252842e509a0c23f218c55981f62191b87d95\n",
      "  Building wheel for millify (setup.py): started\n",
      "  Building wheel for millify (setup.py): finished with status 'done'\n",
      "  Created wheel for millify: filename=millify-0.1.1-py3-none-any.whl size=1866 sha256=b95dcd60303dd35cf790bbd31ba9d958609283124705a7ef38d63c025f63357a\n",
      "  Stored in directory: c:\\users\\kharr\\appdata\\local\\pip\\cache\\wheels\\4d\\a6\\58\\ab31aca0c3bb6be6ae878845aed85d55c3d580b6d0b2e71486\n",
      "  Building wheel for tabulate (setup.py): started\n",
      "  Building wheel for tabulate (setup.py): finished with status 'done'\n",
      "  Created wheel for tabulate: filename=tabulate-0.8.2-py3-none-any.whl size=23550 sha256=3b31597894834bdf840f6f4d0ab1df6774acf549a0383503ecc912ce5bbb53ed\n",
      "  Stored in directory: c:\\users\\kharr\\appdata\\local\\pip\\cache\\wheels\\e8\\2f\\6e\\75badca4abe8d8cacb71f1bf6958b4d3f3c45cc00612d439a9\n",
      "  Building wheel for xhtml2pdf (setup.py): started\n",
      "  Building wheel for xhtml2pdf (setup.py): finished with status 'done'\n",
      "  Created wheel for xhtml2pdf: filename=xhtml2pdf-0.2.2-py3-none-any.whl size=230659 sha256=007c5d6e91c359646fa2da647146746d60a5be7c2ec1c03dbcfb2e8c408319fa\n",
      "  Stored in directory: c:\\users\\kharr\\appdata\\local\\pip\\cache\\wheels\\2f\\3b\\97\\cab639760b660694fc1eb9488c698c85017b913fb192cc1172\n",
      "  Building wheel for visitor (setup.py): started\n",
      "  Building wheel for visitor (setup.py): finished with status 'done'\n",
      "  Created wheel for visitor: filename=visitor-0.1.3-py3-none-any.whl size=3946 sha256=49f724a3ae6b3bfb019531ce7cc440ca5be4e9bae58fade87f082da692a82e64\n",
      "  Stored in directory: c:\\users\\kharr\\appdata\\local\\pip\\cache\\wheels\\cd\\93\\8e\\b92d317bbcc888f0bdcd7df644ae49e8e0f1b4f738eec61b82\n",
      "Successfully built Flask-Bootstrap markdown2 millify tabulate xhtml2pdf visitor\n",
      "Installing collected packages: visitor, reportlab, pyPdf2, httplib2, Flask, dominate, xhtml2pdf, tabulate, ohio, millify, markdown2, Flask-Bootstrap, altair, aequitas\n",
      "  Attempting uninstall: Flask\n",
      "    Found existing installation: Flask 1.1.2\n",
      "    Uninstalling Flask-1.1.2:\n",
      "      Successfully uninstalled Flask-1.1.2\n",
      "Successfully installed Flask-0.12.2 Flask-Bootstrap-3.3.7.1 aequitas-0.42.0 altair-4.1.0 dominate-2.6.0 httplib2-0.20.4 markdown2-2.3.5 millify-0.1.1 ohio-0.5.0 pyPdf2-1.27.4 reportlab-3.6.9 tabulate-0.8.2 visitor-0.1.3 xhtml2pdf-0.2.2\n",
      "\n"
     ]
    }
   ],
   "source": [
    "pip install aequitas"
   ]
  },
  {
   "cell_type": "markdown",
   "metadata": {},
   "source": [
    "5.2) Run the Aequitas program on your models."
   ]
  },
  {
   "cell_type": "markdown",
   "metadata": {},
   "source": [
    "5.2.a) Choose initial audit goals for you bias report, and discuss your justification for these goals. For example, explain why you might choose “False Negative Rate Parity” over “False Positive\n",
    "Rate Parity” or vice versa depending on the context."
   ]
  },
  {
   "cell_type": "code",
   "execution_count": null,
   "metadata": {},
   "outputs": [],
   "source": []
  },
  {
   "cell_type": "markdown",
   "metadata": {},
   "source": [
    "5.2.b) Does your model pass your audit goals? If so, discuss whether you would be comfortable proceeding using it in a real world application. If not, discuss what the potential problems are that contribute to the failure, and whether you think you can overcome these to make a ethically and legally fair algorithm."
   ]
  },
  {
   "cell_type": "code",
   "execution_count": null,
   "metadata": {},
   "outputs": [],
   "source": []
  },
  {
   "cell_type": "markdown",
   "metadata": {},
   "source": [
    "# Discussion Questions"
   ]
  },
  {
   "cell_type": "markdown",
   "metadata": {},
   "source": [
    "6.1) Define bias-variance tradeoff. Why is it relevant to prediction in machine learning?"
   ]
  },
  {
   "cell_type": "markdown",
   "metadata": {},
   "source": [
    "As we further tune our model to the dataset, it can become focused on certain relationships and completely miss others. This is one source of model error known as bias. However if we go in the other direction and allow the model to attempt to capture all relationships between all features, our model will become very sensitive to changes in new data (overfitted to old data) and will not make accurate predictions either. This is the variance issue. While sepearate sources of error, most often reducing one results in an increase in the other, and vice versa.\n",
    "\n",
    "It's relevance to prediction ties back to the questions answered earlier about overfitting to training data, and is why we have validation and testing data as well. Proper predictive models necessitate the correct balance between these two sources of error, or else they will not be able to accomodate new data. And in reality, the world is full of new, unpredictable, and rich data that will not be easily interpreted unless we have models that have been created properly. "
   ]
  },
  {
   "cell_type": "markdown",
   "metadata": {},
   "source": [
    "6.2) Define overfitting. Why does this phenomenon tend to arise in the machine learning process, and what can be done to correct for it?"
   ]
  },
  {
   "cell_type": "markdown",
   "metadata": {},
   "source": [
    "Overfitting is when a model has been to specifically trained to the training dataset, and performs poorly when run on the test dataset. This happens when we allow high variance, and the model attempts to cature all relationships between features. But either because of different features, different external characteristics of the data sources, or the tuning of the model, the initial model can be too tailored to the test data and fail to accurately predict results when given new data. "
   ]
  },
  {
   "cell_type": "markdown",
   "metadata": {},
   "source": [
    "6.3) What are the advantages and disadvantages of using a predictive algorithm to predict neighborhood crime?"
   ]
  },
  {
   "cell_type": "markdown",
   "metadata": {},
   "source": [
    "One major disadvantage that's talked about quite often in data ethics spaces is the \"black box\" issue where citizens affected by increased police presence don't get to know why decisions were made, or particularly how. And while technically some cities publicly offer the stops/crime/calls data that's used to make these predictions, they still aren't really given notice of when, how, or why private contractors come in and build these programs. Even in cities where these operations are done internally, citizens often don't have a choice in how they're conducted or if they can be stopped. \n",
    "\n",
    "An advantage is that, like our previous project, properly trained predictive algorithms can give police departments an idea of where to focus their efforts, and how to understand vast amounts of data. Hotspot policing has been found to have some (while small) benefits, and properly allocated police presence is certainly better than subjectively or randomly allocated presence. "
   ]
  }
 ],
 "metadata": {
  "kernelspec": {
   "display_name": "Python 3 (ipykernel)",
   "language": "python",
   "name": "python3"
  },
  "language_info": {
   "codemirror_mode": {
    "name": "ipython",
    "version": 3
   },
   "file_extension": ".py",
   "mimetype": "text/x-python",
   "name": "python",
   "nbconvert_exporter": "python",
   "pygments_lexer": "ipython3",
   "version": "3.9.7"
  }
 },
 "nbformat": 4,
 "nbformat_minor": 2
}
