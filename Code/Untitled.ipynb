{
 "cells": [
  {
   "cell_type": "code",
   "execution_count": null,
   "id": "c7beb58e",
   "metadata": {},
   "outputs": [],
   "source": [
    "import glob\n",
    "import pandas as pd\n",
    "from pathlib import Path  \n",
    "import numpy as np\n",
    "import geopandas as gpd\n",
    "\n",
    "from IPython.core.interactiveshell import InteractiveShell\n",
    "InteractiveShell.ast_node_interactivity = \"all\"\n",
    "\n",
    "non_ripa_df = pd.read_csv('C:\\\\Users\\\\kharr\\\\Documents\\\\GitHub\\\\Berkeley-PD-ISF-110\\\\Data\\\\Berkeley_PD_-_Stop_Data__Jan_26__2015_to_Sep_30__2020_.csv',keep_default_na=True)\n",
    "ripa_df = pd.read_csv('C:\\\\Users\\\\kharr\\\\Documents\\\\GitHub\\\\Berkeley-PD-ISF-110\\\\Data\\\\Berkeley_PD_-_Stop_Data__October_1__2020_-_Present.csv',keep_default_na=True)\n",
    "\n",
    "# non_ripa_df.shape\n",
    "# non_ripa_df.head(5)\n",
    "\n",
    "# ripa_df.shape\n",
    "# ripa_df.head(5)"
   ]
  }
 ],
 "metadata": {
  "kernelspec": {
   "display_name": "Python 3 (ipykernel)",
   "language": "python",
   "name": "python3"
  },
  "language_info": {
   "codemirror_mode": {
    "name": "ipython",
    "version": 3
   },
   "file_extension": ".py",
   "mimetype": "text/x-python",
   "name": "python",
   "nbconvert_exporter": "python",
   "pygments_lexer": "ipython3",
   "version": "3.9.7"
  }
 },
 "nbformat": 4,
 "nbformat_minor": 5
}
