{
 "cells": [
  {
   "cell_type": "markdown",
   "id": "c98f471f",
   "metadata": {},
   "source": [
    "# Data Preperation"
   ]
  },
  {
   "cell_type": "markdown",
   "id": "4f2bfb60",
   "metadata": {},
   "source": [
    " "
   ]
  },
  {
   "cell_type": "markdown",
   "id": "2f83ad44",
   "metadata": {},
   "source": [
    "### Joining with Census Data"
   ]
  },
  {
   "cell_type": "code",
   "execution_count": 44,
   "id": "fcd0b0ba",
   "metadata": {},
   "outputs": [],
   "source": [
    "import glob\n",
    "from pathlib import Path  \n",
    "import numpy as np\n",
    "import pandas as pd\n",
    "# import geopandas\n",
    "from shapely.geometry import Point\n",
    "\n",
    "from IPython.core.interactiveshell import InteractiveShell\n",
    "InteractiveShell.ast_node_interactivity = \"all\""
   ]
  },
  {
   "cell_type": "markdown",
   "id": "7ef54635",
   "metadata": {},
   "source": [
    "First let's create the dataframes. "
   ]
  },
  {
   "cell_type": "code",
   "execution_count": 57,
   "id": "667102f1",
   "metadata": {},
   "outputs": [
    {
     "name": "stdout",
     "output_type": "stream",
     "text": [
      "The non_RIPA dataframe has a shape of (58951, 13).\n"
     ]
    },
    {
     "data": {
      "text/plain": [
       "Index(['CreateDatetime', 'IncidentNumber', 'Address', 'City', 'Lat', 'Lon',\n",
       "       'CallType', 'Race', 'Gender', 'Age', 'Reason', 'Enforcement',\n",
       "       'Car Search'],\n",
       "      dtype='object')"
      ]
     },
     "execution_count": 57,
     "metadata": {},
     "output_type": "execute_result"
    },
    {
     "name": "stdout",
     "output_type": "stream",
     "text": [
      "\n",
      "The RIPA dataframe has a shape of (8454, 45).\n"
     ]
    },
    {
     "data": {
      "text/plain": [
       "Index(['LEA Record ID', 'Person Number', 'Date of Stop', 'Time of Stop',\n",
       "       'Duration of Stop', 'Is Stop Made in Response to Call for Service',\n",
       "       'Information Based Stop', 'Type Of Stop', 'Officer Type of Assignment',\n",
       "       'Location', 'City', 'Is Location a K12 Public School',\n",
       "       'If K12 School Is Stop of a Student', 'School Name',\n",
       "       'Education Code Section', 'Education Code Subdivision',\n",
       "       'Race Perceived Prior To Stop', 'Perceived Race or Ethnicity',\n",
       "       'Perceived Gender', 'Perceived Gender Nonconforming', 'Is LGBT',\n",
       "       'Perceived Age', 'Person had Limited or No English Fluency',\n",
       "       'Perceived or Known Disability', 'City of Residence', 'Reason for Stop',\n",
       "       'Reason for Stop Narrative', 'Traffic Violation Type',\n",
       "       'Traffic Violation Offense Codes', 'Suspicion Offense Code',\n",
       "       'Suspicion SubType', 'Actions Taken', 'Basis for Search',\n",
       "       'Basis for Search Narrative', 'Basis for Property Seizure',\n",
       "       'Type of Property Seized', 'Contraband or Evidence',\n",
       "       'Other Contraband Desc', 'Warning Offense Codes',\n",
       "       'Citation Offense Codes', 'Result of Stop',\n",
       "       'In field cite and release Offense Codes',\n",
       "       'Custodial arrest Offense Codes', 'LAT', 'LONG'],\n",
       "      dtype='object')"
      ]
     },
     "execution_count": 57,
     "metadata": {},
     "output_type": "execute_result"
    }
   ],
   "source": [
    "non_ripa_df = pd.read_csv('Data/Berkeley_PD_-_Stop_Data__Jan_26__2015_to_Sep_30__2020_.csv',keep_default_na=True)\n",
    "ripa_df = pd.read_csv('Data/Berkeley_PD_-_Stop_Data__October_1__2020_-_Present.csv',keep_default_na=True)\n",
    "\n",
    "print(f'The non_RIPA dataframe has a shape of {non_ripa_df.shape}.')\n",
    "non_ripa_df.columns\n",
    "\n",
    "print(f'\\nThe RIPA dataframe has a shape of {ripa_df.shape}.')\n",
    "ripa_df.columns"
   ]
  },
  {
   "cell_type": "markdown",
   "id": "13cf0e39",
   "metadata": {},
   "source": [
    "Now let's format and join them. We'll remove any observations with innacurate location information. "
   ]
  },
  {
   "cell_type": "code",
   "execution_count": 58,
   "id": "45b9986f",
   "metadata": {},
   "outputs": [
    {
     "name": "stdout",
     "output_type": "stream",
     "text": [
      "The non_RIPA dataframe has a shape of (55976, 14).\n",
      "The RIPA dataframe has a shape of (8454, 45).\n",
      "The two dataframes have 10 shared columns.\n"
     ]
    }
   ],
   "source": [
    "non_ripa_df.rename(columns={'Lat':'LAT', \n",
    "                            'Lon':'LONG',\n",
    "                            'Race':'Perceived Race or Ethnicity',\n",
    "                            'Gender':'Perceived Gender',\n",
    "                            'Age':'Perceived Age',\n",
    "                            'Reason':'Reason for Stop',\n",
    "                            'Enforcement':'Result of Stop'}, inplace=True)\n",
    "\n",
    "non_ripa_df['CreateDatetime'] = pd.to_datetime(non_ripa_df.CreateDatetime)\n",
    "non_ripa_df['Date of Stop'] = non_ripa_df['CreateDatetime'].dt.date\n",
    "non_ripa_df['Time of Stop'] = non_ripa_df['CreateDatetime'].dt.time\n",
    "non_ripa_df = non_ripa_df.drop(columns = ['CreateDatetime'])\n",
    "ripa_df['Date of Stop'], non_ripa_df['Date of Stop']= pd.to_datetime(ripa_df['Date of Stop']), pd.to_datetime(non_ripa_df['Date of Stop'])\n",
    "\n",
    "ripa_df = ripa_df[ripa_df.LONG != -361]\n",
    "non_ripa_df = non_ripa_df[non_ripa_df.LONG != -361]\n",
    "print(f'The non_RIPA dataframe has a shape of {non_ripa_df.shape}.')\n",
    "print(f'The RIPA dataframe has a shape of {ripa_df.shape}.')\n",
    "print(f'The two dataframes have {len(np.intersect1d(non_ripa_df.columns, ripa_df.columns))} shared columns.')"
   ]
  },
  {
   "cell_type": "code",
   "execution_count": 60,
   "id": "c48df561",
   "metadata": {},
   "outputs": [],
   "source": [
    "all_stops = pd.concat([ripa_df,non_ripa_df], axis=0)\n",
    "all_stops['Date of Stop']= pd.to_datetime(all_stops['Date of Stop'])\n",
    "\n",
    "all_stops = all_stops.reindex(columns=[ 'LEA Record ID', 'Incident Number', 'Date of Stop',\n",
    "                                        'Time of Stop', 'Duration of Stop', 'City',\n",
    "                                        'LAT', 'LONG', 'Race Perceived Prior To Stop',\n",
    "                                        'Perceived Race or Ethnicity', 'Perceived Gender',\n",
    "                                        'Perceived Age', 'Reason for Stop', \n",
    "                                        'Reason for Stop Narrative', 'Result of Stop', 'Person Number',  'Is Stop Made in Response to Call for Service',\n",
    "                                        'Information Based Stop', 'Type Of Stop', 'Officer Type of Assignment',\n",
    "                                        'Location', 'Is Location a K12 Public School',\n",
    "                                        'If K12 School Is Stop of a Student', 'School Name',\n",
    "                                        'Education Code Section', 'Education Code Subdivision',\n",
    "                                        'Perceived Gender Nonconforming', 'Is LGBT',\n",
    "                                        'Person had Limited or No English Fluency',\n",
    "                                        'Perceived or Known Disability', 'City of Residence', 'Traffic Violation Type',\n",
    "                                        'Traffic Violation Offense Codes', 'Suspicion Offense Code',\n",
    "                                        'Suspicion SubType', 'Actions Taken', 'Basis for Search',\n",
    "                                        'Basis for Search Narrative', 'Basis for Property Seizure',\n",
    "                                        'Type of Property Seized', 'Contraband or Evidence',\n",
    "                                        'Other Contraband Desc', 'Warning Offense Codes',\n",
    "                                        'Citation Offense Codes',\n",
    "                                        'In field cite and release Offense Codes',\n",
    "                                        'Custodial arrest Offense Codes', 'IncidentNumber',\n",
    "                                        'Address', 'CallType', 'Car Search'\n",
    "                                      ])"
   ]
  },
  {
   "cell_type": "markdown",
   "id": "ddf4dfb8",
   "metadata": {},
   "source": [
    "Alright, great! Now let's find the census tract for each stop. This will be useful later when we merge this data with census data. We'll be checking to see if the latitude and longitude points fall within the map geometries provided by our .geojson file, and if they do, putting in the tract number they fall within."
   ]
  },
  {
   "cell_type": "code",
   "execution_count": 61,
   "id": "2f38a166",
   "metadata": {
    "collapsed": true
   },
   "outputs": [
    {
     "ename": "NameError",
     "evalue": "name 'geopandas' is not defined",
     "output_type": "error",
     "traceback": [
      "\u001b[1;31m---------------------------------------------------------------------------\u001b[0m",
      "\u001b[1;31mNameError\u001b[0m                                 Traceback (most recent call last)",
      "\u001b[1;32m~\\AppData\\Local\\Temp/ipykernel_28416/2574257929.py\u001b[0m in \u001b[0;36m<module>\u001b[1;34m\u001b[0m\n\u001b[1;32m----> 1\u001b[1;33m \u001b[0mberkeley\u001b[0m \u001b[1;33m=\u001b[0m \u001b[0mgeopandas\u001b[0m\u001b[1;33m.\u001b[0m\u001b[0mread_file\u001b[0m\u001b[1;33m(\u001b[0m\u001b[1;34m'Data/Census Tract Polygons 2010.geojson'\u001b[0m\u001b[1;33m)\u001b[0m\u001b[1;33m\u001b[0m\u001b[1;33m\u001b[0m\u001b[0m\n\u001b[0m",
      "\u001b[1;31mNameError\u001b[0m: name 'geopandas' is not defined"
     ]
    }
   ],
   "source": [
    "berkeley = geopandas.read_file('Data/Census Tract Polygons 2010.geojson')"
   ]
  },
  {
   "cell_type": "code",
   "execution_count": null,
   "id": "002a9eae",
   "metadata": {},
   "outputs": [],
   "source": [
    "stop_point = [Point(all_stops['LONG'][i], all_stops['LAT'][i]) for i in np.arange(len(ripa_df))]\n",
    "tt = [berkeley['geometry'].contains(stop_point[i]) for i in np.arange(len(stop_point))]\n",
    "judge = [np.where(tt[i] == True)[0] for i in np.arange(len(tt))]\n",
    "tract_column = [i[0] if i.size > 0  else -1 for i in judge]\n",
    "all_stops['tract'] = tract_column\n",
    "berkeley['order'] = np.arange(len(berkeley))\n",
    "df = all_stops.merge(berkeley[['name10', 'order']], left_on = 'tract', right_on = 'order')\n",
    "df.drop(columns=['tract','order'], inplace=True)"
   ]
  },
  {
   "cell_type": "markdown",
   "id": "c3f5651d",
   "metadata": {},
   "source": [
    "# Exploratory Data Analysis"
   ]
  },
  {
   "cell_type": "markdown",
   "id": "faef8281",
   "metadata": {},
   "source": [
    "# Modelling"
   ]
  }
 ],
 "metadata": {
  "kernelspec": {
   "display_name": "Python 3 (ipykernel)",
   "language": "python",
   "name": "python3"
  },
  "language_info": {
   "codemirror_mode": {
    "name": "ipython",
    "version": 3
   },
   "file_extension": ".py",
   "mimetype": "text/x-python",
   "name": "python",
   "nbconvert_exporter": "python",
   "pygments_lexer": "ipython3",
   "version": "3.9.7"
  }
 },
 "nbformat": 4,
 "nbformat_minor": 5
}
